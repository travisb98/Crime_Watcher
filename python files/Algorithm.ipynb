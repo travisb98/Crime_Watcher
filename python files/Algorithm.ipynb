{
 "metadata": {
  "language_info": {
   "codemirror_mode": {
    "name": "ipython",
    "version": 3
   },
   "file_extension": ".py",
   "mimetype": "text/x-python",
   "name": "python",
   "nbconvert_exporter": "python",
   "pygments_lexer": "ipython3",
   "version": "3.8.3-final"
  },
  "orig_nbformat": 2,
  "kernelspec": {
   "name": "python3",
   "display_name": "Python 3.8.3 64-bit (conda)",
   "metadata": {
    "interpreter": {
     "hash": "a0697a08853843cee7b0067dcaa1e245b3dcd8145de4cf8fef185db7dee63cac"
    }
   }
  }
 },
 "nbformat": 4,
 "nbformat_minor": 2,
 "cells": [
  {
   "cell_type": "code",
   "execution_count": 1,
   "metadata": {},
   "outputs": [],
   "source": [
    "import pandas as pd\n",
    "import requests\n",
    "import json\n",
    "import datetime\n",
    "import pickle\n",
    "import math\n",
    "import numpy as np\n",
    "from sklearn.cluster import KMeans\n",
    "from sklearn.linear_model import LinearRegression"
   ]
  },
  {
   "cell_type": "code",
   "execution_count": 2,
   "metadata": {},
   "outputs": [],
   "source": [
    "# define the current and previous year\n",
    "current_year = datetime.datetime.now().year\n",
    "last_year = current_year - 1\n",
    "\n",
    "# function that calls api and returns the features for a given year\n",
    "def callAndStore(year):\n",
    "    url = f'https://services.arcgis.com/afSMGVsC7QlRK1kZ/arcgis/rest/services/Police_Incidents_{year}/FeatureServer/0/query?where=1%3D1&outFields=reportedDateTime,offense,description,centerLong,centerLat&outSR=4326&f=json'\n",
    "    # make api request\n",
    "    response = requests.get(url).json()\n",
    "\n",
    "    features = [x for x in response['features']]\n",
    "\n",
    "    return features\n",
    "\n",
    "crime_list=[]\n",
    "\n",
    "# for all features in the current and prior year.....\n",
    "for crime in (callAndStore(current_year)+callAndStore(last_year)):\n",
    "    clean_crime={\n",
    "        'date':datetime.datetime.fromtimestamp(crime['attributes']['reportedDateTime']/1000).strftime(\"%m/%d/%Y\"),\n",
    "        'time':datetime.datetime.fromtimestamp(crime['attributes']['reportedDateTime']/1000).strftime(\"%H:%M:%S\"),\n",
    "        'centerLong': crime['attributes']['centerLong'],\n",
    "        'centerLat':crime['attributes']['centerLat'],\n",
    "        'description':crime['attributes']['description'].strip()\n",
    "        }\n",
    "    crime_list.append(clean_crime)"
   ]
  },
  {
   "cell_type": "code",
   "execution_count": 3,
   "metadata": {},
   "outputs": [],
   "source": [
    "incidents = pd.DataFrame(crime_list)\n",
    "\n",
    "Clusters=500\n",
    "\n",
    "# Initialize and Fit KMeans Model\n",
    "clusterer = KMeans(n_clusters=Clusters,random_state=42).fit(incidents[[\"centerLong\",\"centerLat\"]])\n",
    "\n",
    "# Run Predictions\n",
    "predictions = clusterer.predict(incidents[[\"centerLong\",\"centerLat\"]])\n",
    "\n",
    "# Add column for clusters to incidents dataframe\n",
    "incidents[\"cluster\"] = predictions\n",
    "\n",
    "# Save Model using Pickle\n",
    "# pickle.dump(clusterer, open(\"../models/clusterer.pkl\", \"wb\"))"
   ]
  },
  {
   "cell_type": "code",
   "execution_count": 4,
   "metadata": {},
   "outputs": [],
   "source": [
    "crime_severity={\n",
    "\"AUTOMOBILE THEFT\": 4,\n",
    "\"THEFT-MOTR VEH PARTS\": 2.5,\n",
    "\"OTHER THEFT\": 2.5,\n",
    "\"THEFT FROM MOTR VEHC\": 2,\n",
    "\"BURGLARY OF DWELLING\": 5,\n",
    "\"BURGLARY OF BUSINESS\": 4,\n",
    "\"ROBBERY PER AGG\": 8,\n",
    "\"ASSLT W/DNGRS WEAPON\": 6,\n",
    "\"ROBBERY INCLUDING AUTO THEFT\": 4,\n",
    "\"ROBBERY OF PERSON\": 4,\n",
    "\"BIKE THEFT\": 2,\n",
    "\"CSC - RAPE\": 9,\n",
    "\"SHOPLIFTING\": 4,\n",
    "\"2ND DEG DOMES ASLT\": 4,\n",
    "\"THEFT BY SWINDLE\": 3,\n",
    "\"DOMESTIC ASSAULT/STRANGULATION\": 4,\n",
    "\"ROBBERY OF BUSINESS\": 4,\n",
    "\"ASLT-SGNFCNT BDLY HM\": 4,\n",
    "\"ASLT4-LESS THAN SUBST HARM\": 4,\n",
    "\"THEFT FROM PERSON SNATCH/GRAB\": 4,\n",
    "\"ARSON\": 8,\n",
    "\"MURDER (GENERAL)\": 11,\n",
    "\"CSC - SODOMY\": 9,\n",
    "\"THEFT FROM BUILDING\": 4,\n",
    "\"3RD DEG DOMES ASLT\": 6,\n",
    "\"CSC - PENETRATE WITH OBJECT\": 9,\n",
    "\"ASLT-GREAT BODILY HM\": 9,\n",
    "\"OTHER VEHICLE THEFT\": 4,\n",
    "\"ASLT4-SUBST HARM OR WEAPON\": 6,\n",
    "\"OBS - PETTY THEFT\": 2,\n",
    "\"ON-LINE THEFT\": 2.5,\n",
    "\"FAIL TO PAY - TAXI/HOTEL/REST\": 2.5,\n",
    "\"ARSON-3RD DEGREE\": 3,\n",
    "\"OBS-CSCR - USE EXT 1, 2 OR 3\": 8,\n",
    "\"POCKET-PICKING\": 4,\n",
    "\"LOOTING\": 5,\n",
    "\"SCRAPPING-RECYCLING THEFT\": 2,\n",
    "\"1ST DEG DOMES ASLT\": 4,\n",
    "\"MURDER - 2ND DEGREE\": 11,\n",
    "\"HACKING - THEFT OF SERVICE\": 3,\n",
    "\"ARSON-1ST DEGREE\": 8,\n",
    "\"ACCESS/ALTER SYSTEM/NETWORK\": 3,\n",
    "\"ARSON-5TH DEGREE\": 3,\n",
    "\"GAS STATION DRIV-OFF\": 2.5,\n",
    "\"DO NOT USE\": 0\n",
    "}"
   ]
  },
  {
   "cell_type": "code",
   "execution_count": 5,
   "metadata": {},
   "outputs": [],
   "source": [
    "#Set parameters for machine learning algorithm\n",
    "PriorDays=120\n",
    "# today=datetime.date.today()\n",
    "today=datetime.date(2021,1,1)\n",
    "InitDay=today-datetime.timedelta(days=PriorDays)\n",
    "\n",
    "#This assigns a danger value to each cluster that is not normalized\n",
    "Cluster_Danger=[[0 for x in range(Clusters)] for y in range(PriorDays)]\n",
    "#Only used for testing\n",
    "Today_Danger=[0 for x in range(Clusters)]\n",
    "\n",
    "for crime in crime_list:\n",
    "    MDY = [int(x) for x in crime[\"date\"].split(\"/\")]\n",
    "    date = datetime.date(MDY[2],MDY[0],MDY[1])\n",
    "    if date == InitDay:\n",
    "        try:\n",
    "            Cluster_Danger[0][clusterer.predict([[crime[\"centerLong\"],crime[\"centerLat\"]]])[0]]+=crime_severity[crime[\"description\"]]\n",
    "        except KeyError:\n",
    "            print(\"An error occured on the keys\")\n",
    "            print(crime[\"description\"])\n",
    "            print(\"\")\n",
    "    elif date > InitDay and date < today:\n",
    "        num=int(str(date-InitDay).split(\",\")[0].split()[0])\n",
    "        try:\n",
    "            Cluster_Danger[num][clusterer.predict([[crime[\"centerLong\"],crime[\"centerLat\"]]])[0]]+=crime_severity[crime[\"description\"]]\n",
    "        except KeyError:\n",
    "            print(\"An error occured on the keys\")\n",
    "            print(crime[\"description\"])\n",
    "            print(\"\")\n",
    "#Only used for testing\n",
    "    elif date == today:\n",
    "        try:\n",
    "            Today_Danger[clusterer.predict([[crime[\"centerLong\"],crime[\"centerLat\"]]])[0]]+=crime_severity[crime[\"description\"]]\n",
    "        except KeyError:\n",
    "            print(\"An error occured on the keys\")\n",
    "            print(crime[\"description\"])\n",
    "            print(\"\")\n",
    "\n",
    "\n",
    "MaxDanger=0\n",
    "for day in Cluster_Danger:\n",
    "    if MaxDanger<max(day):\n",
    "        MaxDanger=max(day)\n",
    "#This creates a normalized danger value for each cluster between 0 and 10\n",
    "Normal_Cluster_Danger=[[] for y in range(PriorDays)]\n",
    "\n",
    "for day in range (PriorDays):\n",
    "    for cluster in Cluster_Danger[day]:\n",
    "        Normal_Cluster_Danger[day].append(math.ceil(cluster/MaxDanger*10))\n",
    "\n",
    "#Only used for testing\n",
    "Normal_Today_Danger=[]\n",
    "for cluster in Today_Danger:\n",
    "    Normal_Today_Danger.append(math.ceil(cluster/MaxDanger*10))"
   ]
  },
  {
   "cell_type": "code",
   "execution_count": 6,
   "metadata": {},
   "outputs": [],
   "source": [
    "del Cluster_Danger, MaxDanger, clean_crime, crime, crime_list, crime_severity, date, current_year, incidents, last_year, num, predictions, MDY, cluster, day"
   ]
  },
  {
   "cell_type": "code",
   "execution_count": 7,
   "metadata": {},
   "outputs": [],
   "source": [
    "Training_Data=[]\n",
    "for d,day in enumerate(Normal_Cluster_Danger):\n",
    "    for c,cluster in enumerate(day):\n",
    "        Training_Data.append({\n",
    "            \"Day\": d,\n",
    "            \"Cluster\": c,\n",
    "            \"Danger\": cluster\n",
    "        })\n",
    "Training=pd.DataFrame(Training_Data)\n",
    "\n",
    "#Only used for testing\n",
    "Testing_Data=[]\n",
    "for c,cluster in enumerate(Normal_Today_Danger):\n",
    "    Testing_Data.append({\n",
    "        \"Day\": PriorDays,\n",
    "        \"Cluster\": c,\n",
    "        \"Danger\": cluster\n",
    "    })\n",
    "Testing=pd.DataFrame(Testing_Data)\n",
    "\n",
    "\n",
    "del Training_Data, Normal_Cluster_Danger, d, day, c, cluster"
   ]
  },
  {
   "cell_type": "code",
   "execution_count": 8,
   "metadata": {},
   "outputs": [],
   "source": [
    "#Setting up X and y to train our linear model\n",
    "X_train = Training[[\"Day\", \"Cluster\"]].values\n",
    "y_train = Training[\"Danger\"].values.reshape(-1, 1)\n",
    "\n",
    "#Only used for testing\n",
    "X_test = Testing[[\"Day\", \"Cluster\"]].values\n",
    "y_test = Testing[\"Danger\"].values.reshape(-1, 1)\n",
    "\n",
    "#Create the model\n",
    "model = LinearRegression()\n",
    "\n",
    "#Fit the model to the training data. \n",
    "model.fit(X_train, y_train)\n",
    "\n",
    "# Use our model to predict a value\n",
    "predicted = model.predict(X_test)"
   ]
  },
  {
   "cell_type": "code",
   "execution_count": 9,
   "metadata": {},
   "outputs": [
    {
     "output_type": "stream",
     "name": "stdout",
     "text": [
      "[[0.23177479]\n [0.23156817]\n [0.23136156]\n [0.23115494]\n [0.23094832]\n [0.23074171]\n [0.23053509]\n [0.23032848]\n [0.23012186]\n [0.22991524]\n [0.22970863]\n [0.22950201]\n [0.2292954 ]\n [0.22908878]\n [0.22888216]\n [0.22867555]\n [0.22846893]\n [0.22826232]\n [0.2280557 ]\n [0.22784908]\n [0.22764247]\n [0.22743585]\n [0.22722924]\n [0.22702262]\n [0.226816  ]\n [0.22660939]\n [0.22640277]\n [0.22619616]\n [0.22598954]\n [0.22578292]\n [0.22557631]\n [0.22536969]\n [0.22516308]\n [0.22495646]\n [0.22474984]\n [0.22454323]\n [0.22433661]\n [0.22413   ]\n [0.22392338]\n [0.22371676]\n [0.22351015]\n [0.22330353]\n [0.22309692]\n [0.2228903 ]\n [0.22268368]\n [0.22247707]\n [0.22227045]\n [0.22206383]\n [0.22185722]\n [0.2216506 ]\n [0.22144399]\n [0.22123737]\n [0.22103075]\n [0.22082414]\n [0.22061752]\n [0.22041091]\n [0.22020429]\n [0.21999767]\n [0.21979106]\n [0.21958444]\n [0.21937783]\n [0.21917121]\n [0.21896459]\n [0.21875798]\n [0.21855136]\n [0.21834475]\n [0.21813813]\n [0.21793151]\n [0.2177249 ]\n [0.21751828]\n [0.21731167]\n [0.21710505]\n [0.21689843]\n [0.21669182]\n [0.2164852 ]\n [0.21627859]\n [0.21607197]\n [0.21586535]\n [0.21565874]\n [0.21545212]\n [0.21524551]\n [0.21503889]\n [0.21483227]\n [0.21462566]\n [0.21441904]\n [0.21421243]\n [0.21400581]\n [0.21379919]\n [0.21359258]\n [0.21338596]\n [0.21317935]\n [0.21297273]\n [0.21276611]\n [0.2125595 ]\n [0.21235288]\n [0.21214627]\n [0.21193965]\n [0.21173303]\n [0.21152642]\n [0.2113198 ]\n [0.21111319]\n [0.21090657]\n [0.21069995]\n [0.21049334]\n [0.21028672]\n [0.21008011]\n [0.20987349]\n [0.20966687]\n [0.20946026]\n [0.20925364]\n [0.20904703]\n [0.20884041]\n [0.20863379]\n [0.20842718]\n [0.20822056]\n [0.20801395]\n [0.20780733]\n [0.20760071]\n [0.2073941 ]\n [0.20718748]\n [0.20698087]\n [0.20677425]\n [0.20656763]\n [0.20636102]\n [0.2061544 ]\n [0.20594778]\n [0.20574117]\n [0.20553455]\n [0.20532794]\n [0.20512132]\n [0.2049147 ]\n [0.20470809]\n [0.20450147]\n [0.20429486]\n [0.20408824]\n [0.20388162]\n [0.20367501]\n [0.20346839]\n [0.20326178]\n [0.20305516]\n [0.20284854]\n [0.20264193]\n [0.20243531]\n [0.2022287 ]\n [0.20202208]\n [0.20181546]\n [0.20160885]\n [0.20140223]\n [0.20119562]\n [0.200989  ]\n [0.20078238]\n [0.20057577]\n [0.20036915]\n [0.20016254]\n [0.19995592]\n [0.1997493 ]\n [0.19954269]\n [0.19933607]\n [0.19912946]\n [0.19892284]\n [0.19871622]\n [0.19850961]\n [0.19830299]\n [0.19809638]\n [0.19788976]\n [0.19768314]\n [0.19747653]\n [0.19726991]\n [0.1970633 ]\n [0.19685668]\n [0.19665006]\n [0.19644345]\n [0.19623683]\n [0.19603022]\n [0.1958236 ]\n [0.19561698]\n [0.19541037]\n [0.19520375]\n [0.19499714]\n [0.19479052]\n [0.1945839 ]\n [0.19437729]\n [0.19417067]\n [0.19396406]\n [0.19375744]\n [0.19355082]\n [0.19334421]\n [0.19313759]\n [0.19293098]\n [0.19272436]\n [0.19251774]\n [0.19231113]\n [0.19210451]\n [0.1918979 ]\n [0.19169128]\n [0.19148466]\n [0.19127805]\n [0.19107143]\n [0.19086481]\n [0.1906582 ]\n [0.19045158]\n [0.19024497]\n [0.19003835]\n [0.18983173]\n [0.18962512]\n [0.1894185 ]\n [0.18921189]\n [0.18900527]\n [0.18879865]\n [0.18859204]\n [0.18838542]\n [0.18817881]\n [0.18797219]\n [0.18776557]\n [0.18755896]\n [0.18735234]\n [0.18714573]\n [0.18693911]\n [0.18673249]\n [0.18652588]\n [0.18631926]\n [0.18611265]\n [0.18590603]\n [0.18569941]\n [0.1854928 ]\n [0.18528618]\n [0.18507957]\n [0.18487295]\n [0.18466633]\n [0.18445972]\n [0.1842531 ]\n [0.18404649]\n [0.18383987]\n [0.18363325]\n [0.18342664]\n [0.18322002]\n [0.18301341]\n [0.18280679]\n [0.18260017]\n [0.18239356]\n [0.18218694]\n [0.18198033]\n [0.18177371]\n [0.18156709]\n [0.18136048]\n [0.18115386]\n [0.18094725]\n [0.18074063]\n [0.18053401]\n [0.1803274 ]\n [0.18012078]\n [0.17991417]\n [0.17970755]\n [0.17950093]\n [0.17929432]\n [0.1790877 ]\n [0.17888109]\n [0.17867447]\n [0.17846785]\n [0.17826124]\n [0.17805462]\n [0.17784801]\n [0.17764139]\n [0.17743477]\n [0.17722816]\n [0.17702154]\n [0.17681493]\n [0.17660831]\n [0.17640169]\n [0.17619508]\n [0.17598846]\n [0.17578185]\n [0.17557523]\n [0.17536861]\n [0.175162  ]\n [0.17495538]\n [0.17474876]\n [0.17454215]\n [0.17433553]\n [0.17412892]\n [0.1739223 ]\n [0.17371568]\n [0.17350907]\n [0.17330245]\n [0.17309584]\n [0.17288922]\n [0.1726826 ]\n [0.17247599]\n [0.17226937]\n [0.17206276]\n [0.17185614]\n [0.17164952]\n [0.17144291]\n [0.17123629]\n [0.17102968]\n [0.17082306]\n [0.17061644]\n [0.17040983]\n [0.17020321]\n [0.1699966 ]\n [0.16978998]\n [0.16958336]\n [0.16937675]\n [0.16917013]\n [0.16896352]\n [0.1687569 ]\n [0.16855028]\n [0.16834367]\n [0.16813705]\n [0.16793044]\n [0.16772382]\n [0.1675172 ]\n [0.16731059]\n [0.16710397]\n [0.16689736]\n [0.16669074]\n [0.16648412]\n [0.16627751]\n [0.16607089]\n [0.16586428]\n [0.16565766]\n [0.16545104]\n [0.16524443]\n [0.16503781]\n [0.1648312 ]\n [0.16462458]\n [0.16441796]\n [0.16421135]\n [0.16400473]\n [0.16379812]\n [0.1635915 ]\n [0.16338488]\n [0.16317827]\n [0.16297165]\n [0.16276504]\n [0.16255842]\n [0.1623518 ]\n [0.16214519]\n [0.16193857]\n [0.16173196]\n [0.16152534]\n [0.16131872]\n [0.16111211]\n [0.16090549]\n [0.16069888]\n [0.16049226]\n [0.16028564]\n [0.16007903]\n [0.15987241]\n [0.1596658 ]\n [0.15945918]\n [0.15925256]\n [0.15904595]\n [0.15883933]\n [0.15863271]\n [0.1584261 ]\n [0.15821948]\n [0.15801287]\n [0.15780625]\n [0.15759963]\n [0.15739302]\n [0.1571864 ]\n [0.15697979]\n [0.15677317]\n [0.15656655]\n [0.15635994]\n [0.15615332]\n [0.15594671]\n [0.15574009]\n [0.15553347]\n [0.15532686]\n [0.15512024]\n [0.15491363]\n [0.15470701]\n [0.15450039]\n [0.15429378]\n [0.15408716]\n [0.15388055]\n [0.15367393]\n [0.15346731]\n [0.1532607 ]\n [0.15305408]\n [0.15284747]\n [0.15264085]\n [0.15243423]\n [0.15222762]\n [0.152021  ]\n [0.15181439]\n [0.15160777]\n [0.15140115]\n [0.15119454]\n [0.15098792]\n [0.15078131]\n [0.15057469]\n [0.15036807]\n [0.15016146]\n [0.14995484]\n [0.14974823]\n [0.14954161]\n [0.14933499]\n [0.14912838]\n [0.14892176]\n [0.14871515]\n [0.14850853]\n [0.14830191]\n [0.1480953 ]\n [0.14788868]\n [0.14768207]\n [0.14747545]\n [0.14726883]\n [0.14706222]\n [0.1468556 ]\n [0.14664899]\n [0.14644237]\n [0.14623575]\n [0.14602914]\n [0.14582252]\n [0.14561591]\n [0.14540929]\n [0.14520267]\n [0.14499606]\n [0.14478944]\n [0.14458283]\n [0.14437621]\n [0.14416959]\n [0.14396298]\n [0.14375636]\n [0.14354974]\n [0.14334313]\n [0.14313651]\n [0.1429299 ]\n [0.14272328]\n [0.14251666]\n [0.14231005]\n [0.14210343]\n [0.14189682]\n [0.1416902 ]\n [0.14148358]\n [0.14127697]\n [0.14107035]\n [0.14086374]\n [0.14065712]\n [0.1404505 ]\n [0.14024389]\n [0.14003727]\n [0.13983066]\n [0.13962404]\n [0.13941742]\n [0.13921081]\n [0.13900419]\n [0.13879758]\n [0.13859096]\n [0.13838434]\n [0.13817773]\n [0.13797111]\n [0.1377645 ]\n [0.13755788]\n [0.13735126]\n [0.13714465]\n [0.13693803]\n [0.13673142]\n [0.1365248 ]\n [0.13631818]\n [0.13611157]\n [0.13590495]\n [0.13569834]\n [0.13549172]\n [0.1352851 ]\n [0.13507849]\n [0.13487187]\n [0.13466526]\n [0.13445864]\n [0.13425202]\n [0.13404541]\n [0.13383879]\n [0.13363218]\n [0.13342556]\n [0.13321894]\n [0.13301233]\n [0.13280571]\n [0.1325991 ]\n [0.13239248]\n [0.13218586]\n [0.13197925]\n [0.13177263]\n [0.13156602]\n [0.1313594 ]\n [0.13115278]\n [0.13094617]\n [0.13073955]\n [0.13053294]\n [0.13032632]\n [0.1301197 ]\n [0.12991309]\n [0.12970647]\n [0.12949986]\n [0.12929324]\n [0.12908662]\n [0.12888001]\n [0.12867339]]\n"
     ]
    }
   ],
   "source": [
    "print(predicted)"
   ]
  },
  {
   "cell_type": "code",
   "execution_count": null,
   "metadata": {},
   "outputs": [],
   "source": []
  }
 ]
}