{
 "metadata": {
  "language_info": {
   "codemirror_mode": {
    "name": "ipython",
    "version": 3
   },
   "file_extension": ".py",
   "mimetype": "text/x-python",
   "name": "python",
   "nbconvert_exporter": "python",
   "pygments_lexer": "ipython3",
   "version": "3.6.10-final"
  },
  "orig_nbformat": 2,
  "kernelspec": {
   "name": "python3",
   "display_name": "Python 3.6.10 64-bit ('PythonData': conda)",
   "metadata": {
    "interpreter": {
     "hash": "7e7c916c673641125590bd307b68bb4342787996dc085909d7e5c72ee4d13010"
    }
   }
  }
 },
 "nbformat": 4,
 "nbformat_minor": 2,
 "cells": [
  {
   "cell_type": "code",
   "execution_count": 8,
   "metadata": {},
   "outputs": [],
   "source": [
    "import pandas\n",
    "import requests\n",
    "import json\n"
   ]
  },
  {
   "cell_type": "code",
   "execution_count": 2,
   "metadata": {},
   "outputs": [],
   "source": [
    "\n",
    "\n",
    "year = '2021'\n",
    "\n",
    "url = f'https://services.arcgis.com/afSMGVsC7QlRK1kZ/arcgis/rest/services/Police_Incidents_{year}/FeatureServer/0/query?where=1%3D1&outFields=reportedDateTime,offense,description,centerLong,centerLat&outSR=4326&f=json'"
   ]
  },
  {
   "cell_type": "code",
   "execution_count": 6,
   "metadata": {
    "tags": []
   },
   "outputs": [],
   "source": [
    "# print(requests.get(url).json())\n",
    "response = requests.get(url).json()\n",
    "\n"
   ]
  },
  {
   "cell_type": "code",
   "execution_count": 9,
   "metadata": {
    "tags": [
     "outputPrepend"
    ]
   },
   "outputs": [
    {
     "output_type": "stream",
     "name": "stdout",
     "text": [
      "INESS          \",\n                \"offense\": \"BURGB   \",\n                \"reportedDateTime\": 1614844740000\n            },\n            \"geometry\": {\n                \"x\": -93.2561128875311,\n                \"y\": 44.96271732223145\n            }\n        },\n        {\n            \"attributes\": {\n                \"centerLat\": 44.93323452,\n                \"centerLong\": -93.22597439,\n                \"description\": \"THEFT-MOTR VEH PARTS          \",\n                \"offense\": \"TMVP    \",\n                \"reportedDateTime\": 1614845700000\n            },\n            \"geometry\": {\n                \"x\": -93.22596542659606,\n                \"y\": 44.93322978401096\n            }\n        },\n        {\n            \"attributes\": {\n                \"centerLat\": 44.94839,\n                \"centerLong\": -93.30496,\n                \"description\": \"THEFT FROM MOTR VEHC          \",\n                \"offense\": \"TFMV    \",\n                \"reportedDateTime\": 1614855420000\n            },\n            \"geometry\": {\n                \"x\": -93.30495428952868,\n                \"y\": 44.94838870304538\n            }\n        },\n        {\n            \"attributes\": {\n                \"centerLat\": 44.9376947,\n                \"centerLong\": -93.29139626,\n                \"description\": \"THEFT-MOTR VEH PARTS          \",\n                \"offense\": \"TMVP    \",\n                \"reportedDateTime\": 1614851580000\n            },\n            \"geometry\": {\n                \"x\": -93.29138972873848,\n                \"y\": 44.93769394186382\n            }\n        },\n        {\n            \"attributes\": {\n                \"centerLat\": 44.94041642,\n                \"centerLong\": -93.29836934,\n                \"description\": \"THEFT FROM MOTR VEHC          \",\n                \"offense\": \"TFMV    \",\n                \"reportedDateTime\": 1614853800000\n            },\n            \"geometry\": {\n                \"x\": -93.29836065534326,\n                \"y\": 44.9404155088375\n            }\n        },\n        {\n            \"attributes\": {\n                \"centerLat\": 44.94836708,\n                \"centerLong\": -93.25314102,\n                \"description\": \"OTHER THEFT                   \",\n                \"offense\": \"THEFT   \",\n                \"reportedDateTime\": 1614857400000\n            },\n            \"geometry\": {\n                \"x\": -93.25313946394067,\n                \"y\": 44.94836327196953\n            }\n        },\n        {\n            \"attributes\": {\n                \"centerLat\": 44.92960325,\n                \"centerLong\": -93.23211948,\n                \"description\": \"THEFT-MOTR VEH PARTS          \",\n                \"offense\": \"TMVP    \",\n                \"reportedDateTime\": 1614931200000\n            },\n            \"geometry\": {\n                \"x\": -93.23211888629228,\n                \"y\": 44.92959842531594\n            }\n        },\n        {\n            \"attributes\": {\n                \"centerLat\": 44.96897465,\n                \"centerLong\": -93.2472583,\n                \"description\": \"BURGLARY OF BUSINESS          \",\n                \"offense\": \"BURGB   \",\n                \"reportedDateTime\": 1614864900000\n            },\n            \"geometry\": {\n                \"x\": -93.2472554988297,\n                \"y\": 44.96897146267564\n            }\n        },\n        {\n            \"attributes\": {\n                \"centerLat\": 44.94749198,\n                \"centerLong\": -93.30465384,\n                \"description\": \"DOMESTIC ASSAULT/STRANGULATION\",\n                \"offense\": \"DASTR   \",\n                \"reportedDateTime\": 1614868560000\n            },\n            \"geometry\": {\n                \"x\": -93.30464886233209,\n                \"y\": 44.94748589295262\n            }\n        },\n        {\n            \"attributes\": {\n                \"centerLat\": 44.9913334,\n                \"centerLong\": -93.22766373,\n                \"description\": \"THEFT FROM MOTR VEHC          \",\n                \"offense\": \"TFMV    \",\n                \"reportedDateTime\": 1614934800000\n            },\n            \"geometry\": {\n                \"x\": -93.22766324248305,\n                \"y\": 44.99133206225514\n            }\n        },\n        {\n            \"attributes\": {\n                \"centerLat\": 45.01162802,\n                \"centerLong\": -93.25914632,\n                \"description\": \"AUTOMOBILE THEFT              \",\n                \"offense\": \"AUTOTH  \",\n                \"reportedDateTime\": 1614871260000\n            },\n            \"geometry\": {\n                \"x\": -93.25914021003858,\n                \"y\": 45.011626332270154\n            }\n        },\n        {\n            \"attributes\": {\n                \"centerLat\": 44.90977528,\n                \"centerLong\": -93.26264539,\n                \"description\": \"BURGLARY OF BUSINESS          \",\n                \"offense\": \"BURGB   \",\n                \"reportedDateTime\": 1614873240000\n            },\n            \"geometry\": {\n                \"x\": -93.26264363964665,\n                \"y\": 44.909771356575256\n            }\n        },\n        {\n            \"attributes\": {\n                \"centerLat\": 44.97449942,\n                \"centerLong\": -93.27431687,\n                \"description\": \"OTHER THEFT                   \",\n                \"offense\": \"THEFT   \",\n                \"reportedDateTime\": 1614867540000\n            },\n            \"geometry\": {\n                \"x\": -93.27431275518737,\n                \"y\": 44.97449411525178\n            }\n        },\n        {\n            \"attributes\": {\n                \"centerLat\": 44.94317,\n                \"centerLong\": -93.27023,\n                \"description\": \"AUTOMOBILE THEFT              \",\n                \"offense\": \"AUTOTH  \",\n                \"reportedDateTime\": 1614876660000\n            },\n            \"geometry\": {\n                \"x\": -93.27022542064462,\n                \"y\": 44.943168738548\n            }\n        },\n        {\n            \"attributes\": {\n                \"centerLat\": 44.95912,\n                \"centerLong\": -93.26257,\n                \"description\": \"ROBBERY PER AGG               \",\n                \"offense\": \"ROBPAG  \",\n                \"reportedDateTime\": 1614876720000\n            },\n            \"geometry\": {\n                \"x\": -93.26257177442393,\n                \"y\": 44.959113254826654\n            }\n        },\n        {\n            \"attributes\": {\n                \"centerLat\": 44.94570081,\n                \"centerLong\": -93.26390974,\n                \"description\": \"ROBBERY OF PERSON             \",\n                \"offense\": \"ROBPER  \",\n                \"reportedDateTime\": 1614879840000\n            },\n            \"geometry\": {\n                \"x\": -93.26390128104443,\n                \"y\": 44.94569930436732\n            }\n        },\n        {\n            \"attributes\": {\n                \"centerLat\": 44.94748777,\n                \"centerLong\": -93.28683345,\n                \"description\": \"AUTOMOBILE THEFT              \",\n                \"offense\": \"AUTOTH  \",\n                \"reportedDateTime\": 1614879540000\n            },\n            \"geometry\": {\n                \"x\": -93.28682628709515,\n                \"y\": 44.94748589295262\n            }\n        },\n        {\n            \"attributes\": {\n                \"centerLat\": 44.96179557,\n                \"centerLong\": -93.27401585,\n                \"description\": \"ROBBERY INCLUDING AUTO THEFT  \",\n                \"offense\": \"CARJCK  \",\n                \"reportedDateTime\": 1614879600000\n            },\n            \"geometry\": {\n                \"x\": -93.27400732799077,\n                \"y\": 44.96178931240827\n            }\n        },\n        {\n            \"attributes\": {\n                \"centerLat\": 45.01771707,\n                \"centerLong\": -93.30318124,\n                \"description\": \"THEFT FROM MOTR VEHC          \",\n                \"offense\": \"TFMV    \",\n                \"reportedDateTime\": 1614884760000\n            },\n            \"geometry\": {\n                \"x\": -93.30317562526614,\n                \"y\": 45.01771638653214\n            }\n        },\n        {\n            \"attributes\": {\n                \"centerLat\": 44.95827311,\n                \"centerLong\": -93.22987677,\n                \"description\": \"ROBBERY OF PERSON             \",\n                \"offense\": \"ROBPER  \",\n                \"reportedDateTime\": 1614883200000\n            },\n            \"geometry\": {\n                \"x\": -93.22987309808198,\n                \"y\": 44.95826782351846\n            }\n        },\n        {\n            \"attributes\": {\n                \"centerLat\": 44.96184912,\n                \"centerLong\": -93.24092246,\n                \"description\": \"ROBBERY PER AGG               \",\n                \"offense\": \"ROBPAG  \",\n                \"reportedDateTime\": 1614885300000\n            },\n            \"geometry\": {\n                \"x\": -93.24092237607664,\n                \"y\": 44.96184651892741\n            }\n        },\n        {\n            \"attributes\": {\n                \"centerLat\": 44.89873808,\n                \"centerLong\": -93.28828179,\n                \"description\": \"AUTOMOBILE THEFT              \",\n                \"offense\": \"AUTOTH  \",\n                \"reportedDateTime\": 1614885540000\n            },\n            \"geometry\": {\n                \"x\": -93.28828155785543,\n                \"y\": 44.898732151130226\n            }\n        },\n        {\n            \"attributes\": {\n                \"centerLat\": 44.94920236,\n                \"centerLong\": -93.29063863,\n                \"description\": \"AUTOMOBILE THEFT              \",\n                \"offense\": \"AUTOTH  \",\n                \"reportedDateTime\": 1614884040000\n            },\n            \"geometry\": {\n                \"x\": -93.29063514389982,\n                \"y\": 44.94919613384581\n            }\n        },\n        {\n            \"attributes\": {\n                \"centerLat\": 44.94047824,\n                \"centerLong\": -93.26763786,\n                \"description\": \"BURGLARY OF DWELLING          \",\n                \"offense\": \"BURGD   \",\n                \"reportedDateTime\": 1614896460000\n            },\n            \"geometry\": {\n                \"x\": -93.26762928947352,\n                \"y\": 44.94047273666473\n            }\n        },\n        {\n            \"attributes\": {\n                \"centerLat\": 44.96000889,\n                \"centerLong\": -93.27960819,\n                \"description\": \"ASSLT W/DNGRS WEAPON          \",\n                \"offense\": \"ASLT2   \",\n                \"reportedDateTime\": 1614903840000\n            },\n            \"geometry\": {\n                \"x\": -93.27960383221084,\n                \"y\": 44.960003169061984\n            }\n        },\n        {\n            \"attributes\": {\n                \"centerLat\": 44.96305499,\n                \"centerLong\": -93.2447022,\n                \"description\": \"AUTOMOBILE THEFT              \",\n                \"offense\": \"AUTOTH  \",\n                \"reportedDateTime\": 1614905100000\n            },\n            \"geometry\": {\n                \"x\": -93.24469530026995,\n                \"y\": 44.96305419879606\n            }\n        },\n        {\n            \"attributes\": {\n                \"centerLat\": 44.98049,\n                \"centerLong\": -93.23578,\n                \"description\": \"OTHER THEFT                   \",\n                \"offense\": \"THEFT   \",\n                \"reportedDateTime\": 1614906000000\n            },\n            \"geometry\": {\n                \"x\": -93.23577502949864,\n                \"y\": 44.98048644959533\n            }\n        },\n        {\n            \"attributes\": {\n                \"centerLat\": 44.97918668,\n                \"centerLong\": -93.27310907,\n                \"description\": \"AUTOMOBILE THEFT              \",\n                \"offense\": \"AUTOTH  \",\n                \"reportedDateTime\": 1614906000000\n            },\n            \"geometry\": {\n                \"x\": -93.27310901270666,\n                \"y\": 44.979183821486586\n            }\n        },\n        {\n            \"attributes\": {\n                \"centerLat\": 44.96492984,\n                \"centerLong\": -93.29307427,\n                \"description\": \"AUTOMOBILE THEFT              \",\n                \"offense\": \"AUTOTH  \",\n                \"reportedDateTime\": 1614915000000\n            },\n            \"geometry\": {\n                \"x\": -93.29306957831979,\n                \"y\": 44.964929230319676\n            }\n        },\n        {\n            \"attributes\": {\n                \"centerLat\": 44.95284187,\n                \"centerLong\": -93.26516708,\n                \"description\": \"BURGLARY OF DWELLING          \",\n                \"offense\": \"BURGD   \",\n                \"reportedDateTime\": 1614912000000\n            },\n            \"geometry\": {\n                \"x\": -93.2651589224422,\n                \"y\": 44.95283896780196\n            }\n        },\n        {\n            \"attributes\": {\n                \"centerLat\": 44.95134443,\n                \"centerLong\": -93.28299,\n                \"description\": \"ROBBERY INCLUDING AUTO THEFT  \",\n                \"offense\": \"CARJCK  \",\n                \"reportedDateTime\": 1614911520000\n            },\n            \"geometry\": {\n                \"x\": -93.28298149767913,\n                \"y\": 44.95133863138398\n            }\n        },\n        {\n            \"attributes\": {\n                \"centerLat\": 44.96458504,\n                \"centerLong\": -93.27403296,\n                \"description\": \"ASLT4-LESS THAN SUBST HARM    \",\n                \"offense\": \"ASLT4   \",\n                \"reportedDateTime\": 1614910380000\n            },\n            \"geometry\": {\n                \"x\": -93.27402529429645,\n                \"y\": 44.96457965281902\n            }\n        },\n        {\n            \"attributes\": {\n                \"centerLat\": 44.91141794,\n                \"centerLong\": -93.2959205,\n                \"description\": \"THEFT-MOTR VEH PARTS          \",\n                \"offense\": \"TMVP    \",\n                \"reportedDateTime\": 1614934440000\n            },\n            \"geometry\": {\n                \"x\": -93.29591723777044,\n                \"y\": 44.911412740369066\n            }\n        },\n        {\n            \"attributes\": {\n                \"centerLat\": 44.97965842,\n                \"centerLong\": -93.26343782,\n                \"description\": \"OTHER THEFT                   \",\n                \"offense\": \"THEFT   \",\n                \"reportedDateTime\": 1614938340000\n            },\n            \"geometry\": {\n                \"x\": -93.26343415709668,\n                \"y\": 44.979654041875754\n            }\n        },\n        {\n            \"attributes\": {\n                \"centerLat\": 45.01669,\n                \"centerLong\": -93.28497,\n                \"description\": \"ROBBERY INCLUDING AUTO THEFT  \",\n                \"offense\": \"CARJCK  \",\n                \"reportedDateTime\": 1614944100000\n            },\n            \"geometry\": {\n                \"x\": -93.28496677445703,\n                \"y\": 45.01668131350545\n            }\n        },\n        {\n            \"attributes\": {\n                \"centerLat\": 44.96180077,\n                \"centerLong\": -93.2778187,\n                \"description\": \"AUTOMOBILE THEFT              \",\n                \"offense\": \"AUTOTH  \",\n                \"reportedDateTime\": 1614942000000\n            },\n            \"geometry\": {\n                \"x\": -93.27781618479543,\n                \"y\": 44.961795668690996\n            }\n        },\n        {\n            \"attributes\": {\n                \"centerLat\": 44.99149,\n                \"centerLong\": -93.25699,\n                \"description\": \"THEFT FROM MOTR VEHC          \",\n                \"offense\": \"TFMV    \",\n                \"reportedDateTime\": 1614732360000\n            },\n            \"geometry\": {\n                \"x\": -93.25699323650954,\n                \"y\": 44.99148453427268\n            }\n        },\n        {\n            \"attributes\": {\n                \"centerLat\": 45.01679878,\n                \"centerLong\": -93.24159396,\n                \"description\": \"THEFT-MOTR VEH PARTS          \",\n                \"offense\": \"TMVP    \",\n                \"reportedDateTime\": 1614861540000\n            },\n            \"geometry\": {\n                \"x\": -93.2415871293869,\n                \"y\": 45.01679561696728\n            }\n        },\n        {\n            \"attributes\": {\n                \"centerLat\": 44.91968663,\n                \"centerLong\": -93.22103275,\n                \"description\": \"BIKE THEFT                    \",\n                \"offense\": \"BIKETF  \",\n                \"reportedDateTime\": 1614862320000\n            },\n            \"geometry\": {\n                \"x\": -93.22102469253339,\n                \"y\": 44.91968256571024\n            }\n        },\n        {\n            \"attributes\": {\n                \"centerLat\": 44.9459527,\n                \"centerLong\": -93.21400573,\n                \"description\": \"THEFT-MOTR VEH PARTS          \",\n                \"offense\": \"TMVP    \",\n                \"reportedDateTime\": 1614871020000\n            },\n            \"geometry\": {\n                \"x\": -93.21399986701158,\n                \"y\": 44.94594726838383\n            }\n        },\n        {\n            \"attributes\": {\n                \"centerLat\": 44.96090644,\n                \"centerLong\": -93.27871389,\n                \"description\": \"OTHER THEFT                   \",\n                \"offense\": \"THEFT   \",\n                \"reportedDateTime\": 1614873060000\n            },\n            \"geometry\": {\n                \"x\": -93.27870551692672,\n                \"y\": 44.96090578225803\n            }\n        },\n        {\n            \"attributes\": {\n                \"centerLat\": 44.97774511,\n                \"centerLong\": -93.26967792,\n                \"description\": \"THEFT FROM MOTR VEHC          \",\n                \"offense\": \"TFMV    \",\n                \"reportedDateTime\": 1614883620000\n            },\n            \"geometry\": {\n                \"x\": -93.26967744832132,\n                \"y\": 44.97774136461275\n            }\n        },\n        {\n            \"attributes\": {\n                \"centerLat\": 44.96003386,\n                \"centerLong\": -93.24984928,\n                \"description\": \"THEFT FROM MOTR VEHC          \",\n                \"offense\": \"TFMV    \",\n                \"reportedDateTime\": 1614886860000\n            },\n            \"geometry\": {\n                \"x\": -93.24984264684795,\n                \"y\": 44.96002859498018\n            }\n        },\n        {\n            \"attributes\": {\n                \"centerLat\": 44.95101265,\n                \"centerLong\": -93.24866739,\n                \"description\": \"BURGLARY OF DWELLING          \",\n                \"offense\": \"BURGD   \",\n                \"reportedDateTime\": 1614892980000\n            },\n            \"geometry\": {\n                \"x\": -93.24866585382576,\n                \"y\": 44.951008043510264\n            }\n        }\n    ],\n    \"fields\": [\n        {\n            \"alias\": \"reportedDateTime\",\n            \"defaultValue\": null,\n            \"domain\": null,\n            \"length\": 8,\n            \"name\": \"reportedDateTime\",\n            \"sqlType\": \"sqlTypeOther\",\n            \"type\": \"esriFieldTypeDate\"\n        },\n        {\n            \"alias\": \"offense\",\n            \"defaultValue\": null,\n            \"domain\": null,\n            \"length\": 20,\n            \"name\": \"offense\",\n            \"sqlType\": \"sqlTypeOther\",\n            \"type\": \"esriFieldTypeString\"\n        },\n        {\n            \"alias\": \"description\",\n            \"defaultValue\": null,\n            \"domain\": null,\n            \"length\": 65,\n            \"name\": \"description\",\n            \"sqlType\": \"sqlTypeOther\",\n            \"type\": \"esriFieldTypeString\"\n        },\n        {\n            \"alias\": \"centerLong\",\n            \"defaultValue\": null,\n            \"domain\": null,\n            \"name\": \"centerLong\",\n            \"sqlType\": \"sqlTypeOther\",\n            \"type\": \"esriFieldTypeDouble\"\n        },\n        {\n            \"alias\": \"centerLat\",\n            \"defaultValue\": null,\n            \"domain\": null,\n            \"name\": \"centerLat\",\n            \"sqlType\": \"sqlTypeOther\",\n            \"type\": \"esriFieldTypeDouble\"\n        }\n    ],\n    \"geometryType\": \"esriGeometryPoint\",\n    \"globalIdFieldName\": \"\",\n    \"objectIdFieldName\": \"OBJECTID\",\n    \"spatialReference\": {\n        \"latestWkid\": 4326,\n        \"wkid\": 4326\n    },\n    \"uniqueIdField\": {\n        \"isSystemMaintained\": true,\n        \"name\": \"OBJECTID\"\n    }\n}\n"
     ]
    }
   ],
   "source": [
    "print(json.dumps(response,indent=4,sort_keys=True))"
   ]
  },
  {
   "cell_type": "code",
   "execution_count": 32,
   "metadata": {},
   "outputs": [],
   "source": [
    "\n",
    "### write response to json file\n",
    "with open('../resources/2021API.json','w+') as json_file:\n",
    "    json.dump(response,json_file)"
   ]
  },
  {
   "cell_type": "code",
   "execution_count": 15,
   "metadata": {},
   "outputs": [],
   "source": [
    "with open('../resources/2021API.json') as json_file:\n",
    "    myjson = json.load(json_file)"
   ]
  },
  {
   "cell_type": "code",
   "execution_count": 27,
   "metadata": {
    "tags": []
   },
   "outputs": [
    {
     "output_type": "execute_result",
     "data": {
      "text/plain": [
       "{'reportedDateTime': 1609746060000,\n",
       " 'offense': 'AUTOTH  ',\n",
       " 'description': 'AUTOMOBILE THEFT              ',\n",
       " 'centerLong': -93.28019274,\n",
       " 'centerLat': 44.98504707}"
      ]
     },
     "metadata": {},
     "execution_count": 27
    }
   ],
   "source": [
    "myjson\n",
    "\n",
    "# for x in myjson:\n",
    "#     print(x)\n",
    "#     # print(myjson[x])\n",
    "\n",
    "# myjson['objectIdFieldName']\n",
    "# myjson['uniqueIdField']\n",
    "# myjson['globalIdFieldName']  \n",
    "# myjson['geometryType']\n",
    "# myjson['spatialReference']\n",
    "# myjson['fields']\n",
    "\n",
    "#####-----------\n",
    "#####-----------\n",
    "#####-----------\n",
    "\n",
    "myjson['features'][0]['attributes']\n",
    "\n"
   ]
  },
  {
   "cell_type": "code",
   "execution_count": null,
   "metadata": {},
   "outputs": [],
   "source": []
  }
 ]
}