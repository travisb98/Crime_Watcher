{
 "metadata": {
  "language_info": {
   "codemirror_mode": {
    "name": "ipython",
    "version": 3
   },
   "file_extension": ".py",
   "mimetype": "text/x-python",
   "name": "python",
   "nbconvert_exporter": "python",
   "pygments_lexer": "ipython3",
   "version": "3.6.10-final"
  },
  "orig_nbformat": 2,
  "kernelspec": {
   "name": "python3",
   "display_name": "Python 3",
   "language": "python"
  }
 },
 "nbformat": 4,
 "nbformat_minor": 2,
 "cells": [
  {
   "source": [
    "# overall goals\n",
    "- determine if we should use api or csv\n",
    "- make code that downloads, updates, cleans, and loads the data\n",
    "- make the downloads dependent on a \"current year\" variable\n",
    "- figure out how to feed specific date ranges to the api if it's spitting back date-limited data\n",
    "- make it dynamic enough to work in following years"
   ],
   "cell_type": "markdown",
   "metadata": {}
  },
  {
   "cell_type": "code",
   "execution_count": 1,
   "metadata": {},
   "outputs": [],
   "source": [
    "import pandas as pd\n",
    "import requests\n",
    "import json\n",
    "import datetime\n"
   ]
  },
  {
   "cell_type": "code",
   "execution_count": null,
   "metadata": {},
   "outputs": [],
   "source": [
    "\n",
    "# #### in this cell we get define this year and last year\n",
    "# current_year = datetime.datetime.now().year\n",
    "# last_year = current_year - 1\n",
    "# print(current_year)\n",
    "# print(last_year)"
   ]
  },
  {
   "cell_type": "code",
   "execution_count": null,
   "metadata": {},
   "outputs": [],
   "source": [
    "# ####  then use the api_year variable to determine which year we'll be calling\n",
    "# #### using this variable to set which year's api we'll be calling\n",
    "# api_year = last_year\n",
    "\n",
    "# #### api call for the current year of data\n",
    "# url = f'https://services.arcgis.com/afSMGVsC7QlRK1kZ/arcgis/rest/services/Police_Incidents_{api_year}/FeatureServer/0/query?where=1%3D1&outFields=reportedDateTime,offense,description,centerLong,centerLat&outSR=4326&f=json'"
   ]
  },
  {
   "cell_type": "code",
   "execution_count": null,
   "metadata": {
    "tags": []
   },
   "outputs": [],
   "source": [
    "# ### make api request\n",
    "# response = requests.get(url).json()"
   ]
  },
  {
   "cell_type": "code",
   "execution_count": null,
   "metadata": {
    "tags": [
     "outputPrepend"
    ]
   },
   "outputs": [],
   "source": [
    "# ### prints the response from the api call\n",
    "# print(json.dumps(response,indent=4,sort_keys=True))"
   ]
  },
  {
   "cell_type": "code",
   "execution_count": null,
   "metadata": {},
   "outputs": [],
   "source": [
    "\n",
    "# ### write response to json file\n",
    "# with open(f'../resources/Police_Incidents_{api_year}.json','w+') as json_file:\n",
    "#     json.dump(response,json_file)"
   ]
  },
  {
   "cell_type": "code",
   "execution_count": null,
   "metadata": {},
   "outputs": [],
   "source": [
    "# #### open up and load json file as a variable\n",
    "# with open(f'../resources/Police_Incidents_{api_year}.json') as json_file:\n",
    "#     myjson = json.load(json_file)"
   ]
  },
  {
   "cell_type": "code",
   "execution_count": null,
   "metadata": {},
   "outputs": [],
   "source": [
    "# # response['features'][0]\n",
    "# len(response['features'])\n",
    "# response['features']"
   ]
  },
  {
   "cell_type": "code",
   "execution_count": null,
   "metadata": {
    "tags": []
   },
   "outputs": [],
   "source": [
    "# ###### answering some basic questions in this cell: Whats the oldest and youngest \n",
    "\n",
    "# ##### clunkly way of getting year and month into a dataframe\n",
    "# month_list = []\n",
    "# year_list = []\n",
    "# datetime_list = []\n",
    "\n",
    "# for x in myjson['features']:\n",
    "\n",
    "#     #### get the unix timestamp for this entry's time, divide by 1000 to remove milliseconds and convert it to date time\n",
    "#     # print(datetime.datetime.fromtimestamp(x['attributes']['reportedDateTime']/1000))\n",
    "#     feature_date = datetime.datetime.fromtimestamp(x['attributes']['reportedDateTime']/1000)\n",
    "#     datetime_list.append(feature_date)\n",
    "#     month_list.append(feature_date.month)\n",
    "#     year_list.append(feature_date.year)\n",
    "\n",
    "# ym_df = pd.DataFrame({'month':month_list,'year':year_list,'dt':datetime_list})\n",
    "\n",
    "# del datetime_list\n",
    "# del month_list\n",
    "# del year_list\n",
    "\n",
    "\n",
    "# ### find the minimum and maximum dates \n",
    "# ym_df['dt'].min()\n",
    "# ym_df['dt'].max()\n",
    "\n",
    "\n",
    "# print('oldest date')\n",
    "# print(ym_df['dt'].min())\n",
    "# print('--------------------------------------')\n",
    "# print('newest date')\n",
    "# print(ym_df['dt'].max())\n",
    "# print('--------------------------------------')\n",
    "# print('--------------------------------------')\n",
    "# print('--------------------------------------')\n",
    "\n",
    "# # ## groupby year and month and do an aggregate count to see the distribution of the incidents\n",
    "\n",
    "# ym_df.groupby(['year','month']).count()\n",
    "\n",
    "\n"
   ]
  },
  {
   "cell_type": "code",
   "execution_count": null,
   "metadata": {},
   "outputs": [],
   "source": []
  },
  {
   "cell_type": "code",
   "execution_count": null,
   "metadata": {},
   "outputs": [],
   "source": []
  },
  {
   "cell_type": "code",
   "execution_count": 2,
   "metadata": {},
   "outputs": [
    {
     "output_type": "stream",
     "name": "stdout",
     "text": [
      "2021\n2020\n"
     ]
    }
   ],
   "source": [
    "#### in this cell we get define this year and last year\n",
    "current_year = datetime.datetime.now().year\n",
    "last_year = current_year - 1\n",
    "print(current_year)\n",
    "print(last_year)"
   ]
  },
  {
   "cell_type": "code",
   "execution_count": 6,
   "metadata": {
    "tags": []
   },
   "outputs": [],
   "source": [
    "#### make a cell that makes 2 api calls, for this year and the prior, and joins the data from each call into a single variable\n",
    "\n",
    "\n",
    "### calls api and returns the features for a given year\n",
    "def callAndStore(year):\n",
    "    url = f'https://services.arcgis.com/afSMGVsC7QlRK1kZ/arcgis/rest/services/Police_Incidents_{year}/FeatureServer/0/query?where=1%3D1&outFields=reportedDateTime,offense,description,centerLong,centerLat&outSR=4326&f=json'\n",
    "    ### make api request\n",
    "    response = requests.get(url).json()\n",
    "\n",
    "    features = [x for x in response['features']]\n",
    "\n",
    "    # ### write response to json file\n",
    "    # with open(f'../resources/Police_Incidents_{year}.json','w+') as json_file:\n",
    "    #     json.dump(response,json_file)\n",
    "\n",
    "    return features\n",
    "\n",
    "feature_list=[]\n",
    "\n",
    "\n",
    "######### option 2 that returns the date and time as seperate entries\n",
    "##### for all features in the current and prior year.....\n",
    "for feature in (callAndStore(current_year)+callAndStore(last_year)):\n",
    "    clean_feature={\n",
    "        'date':datetime.datetime.fromtimestamp(feature['attributes']['reportedDateTime']/1000).strftime(\"%m/%d/%Y\"),\n",
    "        'time':datetime.datetime.fromtimestamp(feature['attributes']['reportedDateTime']/1000).strftime(\"%H:%M:%S\"),\n",
    "        'centerLong': feature['attributes']['centerLong'],\n",
    "        'centerLat':feature['attributes']['centerLat'],\n",
    "        'description':feature['attributes']['description'].strip()\n",
    "        }\n",
    "    feature_list.append(clean_feature)\n",
    "\n",
    "\n",
    "\n",
    "######### option 2 that returns the entire date time string\n",
    "# ##### for all features in the current and prior year.....\n",
    "# for feature in (callAndStore(current_year)+callAndStore(last_year)):\n",
    "#     # print(datetime.datetime.fromtimestamp(feature['attributes']['reportedDateTime']/1000))\n",
    "#     # print(type(datetime.datetime.fromtimestamp(feature['attributes']['reportedDateTime']/1000)))\n",
    "#     clean_feature={\n",
    "#         'reportedDateTime':datetime.datetime.fromtimestamp(feature['attributes']['reportedDateTime']/1000).strftime(\"%m/%d/%Y %H:%M:%S\"),\n",
    "#         'centerLong': feature['attributes']['centerLong'],\n",
    "#         'centerLat':feature['attributes']['centerLat'],\n",
    "#         'description':feature['attributes']['description'].strip()\n",
    "#         }\n",
    "#     feature_list.append(clean_feature)\n",
    "\n",
    "\n",
    "### write list of feature to json file\n",
    "with open(f'../resources/Police_Incidents_{last_year}_to_{current_year}.json','w+') as json_file:\n",
    "    json.dump(feature_list,json_file)\n",
    "\n",
    "\n"
   ]
  },
  {
   "cell_type": "code",
   "execution_count": 7,
   "metadata": {},
   "outputs": [
    {
     "output_type": "execute_result",
     "data": {
      "text/plain": [
       "{'reportedDateTime': '01/04/2021 01:41:00',\n",
       " 'centerLong': -93.28019274,\n",
       " 'centerLat': 44.98504707,\n",
       " 'description': 'AUTOMOBILE THEFT'}"
      ]
     },
     "metadata": {},
     "execution_count": 7
    }
   ],
   "source": [
    "feature_list[0]"
   ]
  },
  {
   "cell_type": "code",
   "execution_count": null,
   "metadata": {},
   "outputs": [],
   "source": [
    "\n",
    "# myjson['objectIdFieldName']\n",
    "# myjson['uniqueIdField']\n",
    "# myjson['globalIdFieldName']\n",
    "# myjson['geometryType']\n",
    "# myjson['spatialReference']\n",
    "# myjson['fields']\n",
    "# myjson['features']\n",
    "\n",
    "#####-----------\n",
    "#####-----------\n",
    "#####-----------"
   ]
  },
  {
   "cell_type": "code",
   "execution_count": null,
   "metadata": {},
   "outputs": [],
   "source": []
  },
  {
   "cell_type": "code",
   "execution_count": null,
   "metadata": {},
   "outputs": [],
   "source": []
  }
 ]
}