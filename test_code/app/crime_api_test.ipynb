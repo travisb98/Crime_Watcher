{
 "metadata": {
  "language_info": {
   "codemirror_mode": {
    "name": "ipython",
    "version": 3
   },
   "file_extension": ".py",
   "mimetype": "text/x-python",
   "name": "python",
   "nbconvert_exporter": "python",
   "pygments_lexer": "ipython3",
   "version": "3.6.10-final"
  },
  "orig_nbformat": 2,
  "kernelspec": {
   "name": "python3",
   "display_name": "Python 3.6.10 64-bit ('PythonData': conda)",
   "metadata": {
    "interpreter": {
     "hash": "7e7c916c673641125590bd307b68bb4342787996dc085909d7e5c72ee4d13010"
    }
   }
  }
 },
 "nbformat": 4,
 "nbformat_minor": 2,
 "cells": [
  {
   "cell_type": "code",
   "execution_count": null,
   "metadata": {},
   "outputs": [],
   "source": [
    "##### the ideal is to pass a number-of-days-back variable to a function and have the api return every result from that date in the past to today\n",
    "##### depending on our ability to filter dates in the api url, this could be done in 2 ways\n",
    "########## if we can't use filter in api string\n",
    "################# return (call of entire year(s) of crimes and filter them in python)\n",
    "########## if we can use filter in api string\n",
    "################# return (call api with date range in url, potentially 2 calls, one for each calendar year )\n"
   ]
  },
  {
   "cell_type": "code",
   "execution_count": 1,
   "metadata": {},
   "outputs": [],
   "source": [
    "import pandas as pd\n",
    "import requests\n",
    "import json\n",
    "import datetime"
   ]
  },
  {
   "cell_type": "code",
   "execution_count": 2,
   "metadata": {},
   "outputs": [],
   "source": [
    "def _annualCall(year,daysback):\n",
    "    #today get today's date\n",
    "    today = datetime.datetime.now()\n",
    "    #### crime api url\n",
    "    crime_url =f\"https://services.arcgis.com/afSMGVsC7QlRK1kZ/arcgis/rest/services/Police_Incidents_{year}/FeatureServer/0/query?where=reportedDateTime>=CURRENT_TIMESTAMP+-INTERVAL\\'{daysback}\\'DAY&outFields=reportedDateTime,offense,description,centerLong,centerLat&outSR=4326&f=json\"\n",
    "    ### make api request\n",
    "    response = requests.get(crime_url).json()\n",
    "    ## reduce to a variable that just includes the features\n",
    "    features = [x for x in response['features']]\n",
    "\n",
    "    return features"
   ]
  },
  {
   "cell_type": "code",
   "execution_count": 10,
   "metadata": {},
   "outputs": [],
   "source": [
    "##### this function determines how many times we'll need to hit the API, handles it accordingly, and returns cleaned data\n",
    "##### this function will accept daysback as a parameter and return all crimes from (today - daysback) through today\n",
    "##### the way this is written, i think the daysback interger might need to be under a certain amount\n",
    "def callCrimeAPI(daysback):\n",
    "\n",
    "    # ### define the current  date and the date x number of days in the past(iefirst_day)\n",
    "    today = datetime.datetime.now()\n",
    "    first_day = today - datetime.timedelta(days=daysback)\n",
    "    print(f'your requested date range is {first_day} through {today}')\n",
    "\n",
    "    ##### this if statement only works if the first_day is in the current or prior calendar year. It won't work if the 'daysback' variable puts us more than 2 calendar years in the past\n",
    "    ##### i could put a limit on the value of daysback with a try except block\n",
    "    ##### ..... or i could make the code more dynamic by counting the number of years between 'today' and 'first_day', storing that as a variable, then doing that number of api calls\n",
    "\n",
    "    #### if the begining date is in the same year and today's year...\n",
    "    if (today.year == first_day.year):\n",
    "        print('hit the current year api for the date range')\n",
    "        #### just call the api once for this year \n",
    "        crime_list = _annualCall(today.year,daysback)\n",
    "    else:\n",
    "        print('hit the api twice, once for each year, and combine the results')\n",
    "        #### get the datetime object for the begining of this year\n",
    "        start_of_current_year = datetime.datetime(today.year,1,1)\n",
    "        ### how many days have passed since the begining of the year\n",
    "        elapsed_time_delta = today - start_of_current_year\n",
    "        ### hit the api twice, once for each year\n",
    "        crime_list = _annualCall(today.year,elapsed_time_delta.days)+_annualCall(first_day.year,daysback)\n",
    "\n",
    "    clean_crime_list =[]\n",
    "\n",
    "    ##### for all features in the current and prior year.....\n",
    "    for feature in crime_list :\n",
    "        clean_feature={\n",
    "            'date':datetime.datetime.fromtimestamp(feature['attributes']['reportedDateTime']/1000).strftime(\"%m/%d/%Y\"),\n",
    "            'time':datetime.datetime.fromtimestamp(feature['attributes']['reportedDateTime']/1000).strftime(\"%H:%M:%S\"),\n",
    "            'centerLong': feature['attributes']['centerLong'],\n",
    "            'centerLat':feature['attributes']['centerLat'],\n",
    "            'description':feature['attributes']['description'].strip()\n",
    "            }\n",
    "        clean_crime_list.append(clean_feature)\n",
    "    return clean_crime_list"
   ]
  },
  {
   "cell_type": "code",
   "execution_count": 17,
   "metadata": {
    "tags": []
   },
   "outputs": [
    {
     "output_type": "stream",
     "name": "stdout",
     "text": [
      "your requested date range is 2020-02-04 17:16:27.449821 through 2021-03-10 17:16:27.449821\n",
      "hit the api twice, once for each year, and combine the results\n",
      "elapsed time delta: 68 days, 17:16:27.449821 -- type:<class 'datetime.timedelta'>\n",
      "elapsed time delta days: 68 -- type:<class 'int'>\n",
      "first year crime length21993\n",
      "current year crime length3428\n",
      "combined year crime length25421\n"
     ]
    }
   ],
   "source": [
    "\n",
    "##### this crimedata variable is THE variable we'll use \n",
    "crimedata=callCrimeAPI(400)"
   ]
  },
  {
   "cell_type": "code",
   "execution_count": 18,
   "metadata": {
    "tags": []
   },
   "outputs": [
    {
     "output_type": "stream",
     "name": "stdout",
     "text": [
      "25421\n"
     ]
    }
   ],
   "source": [
    "print(len(crimedata))"
   ]
  },
  {
   "cell_type": "code",
   "execution_count": 21,
   "metadata": {
    "tags": []
   },
   "outputs": [
    {
     "output_type": "stream",
     "name": "stdout",
     "text": [
      "Returned dates range from 2020-02-04 to 2021-03-09\n"
     ]
    }
   ],
   "source": [
    "\n",
    "#### turn all the dates from the api response into a list, converting each of the date strings to date time\n",
    "datelist = [datetime.datetime.strptime(x['date'],'%m/%d/%Y') for x in crimedata]\n",
    "\n",
    "#### finding the oldest and youngest dates\n",
    "oldest = max(datelist)\n",
    "youngest = min(datelist)\n",
    "print(f'Returned dates range from {youngest.date()} to {oldest.date()}')\n"
   ]
  },
  {
   "cell_type": "code",
   "execution_count": null,
   "metadata": {},
   "outputs": [],
   "source": []
  }
 ]
}