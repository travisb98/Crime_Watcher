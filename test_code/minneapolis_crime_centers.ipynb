{
 "metadata": {
  "language_info": {
   "codemirror_mode": {
    "name": "ipython",
    "version": 3
   },
   "file_extension": ".py",
   "mimetype": "text/x-python",
   "name": "python",
   "nbconvert_exporter": "python",
   "pygments_lexer": "ipython3",
   "version": "3.8.3-final"
  },
  "orig_nbformat": 2,
  "kernelspec": {
   "name": "python3",
   "display_name": "Python 3.8.3 64-bit (conda)",
   "metadata": {
    "interpreter": {
     "hash": "4daf9c02b5623c0360fcfe1d6dda508d767b2df27b9fea1946db53939aeb33a9"
    }
   }
  }
 },
 "nbformat": 4,
 "nbformat_minor": 2,
 "cells": [
  {
   "cell_type": "code",
   "execution_count": null,
   "metadata": {},
   "outputs": [],
   "source": [
    "from ipyleaflet import Map, basemaps, basemap_to_tiles, CircleMarker\n",
    "from geopy import geocoders \n",
    "import numpy as np\n",
    "import pandas as pd\n",
    "import datetime as dt"
   ]
  },
  {
   "cell_type": "code",
   "execution_count": null,
   "metadata": {},
   "outputs": [],
   "source": [
    "incidents = pd.read_csv('../resources/Police_Incidents_2021.csv')[['reportedDateTime', 'centerLong', 'centerLat', 'offense']]\n",
    "\n",
    "incidents"
   ]
  },
  {
   "cell_type": "code",
   "execution_count": null,
   "metadata": {},
   "outputs": [],
   "source": [
    "from sklearn.cluster import KMeans\n",
    "import pickle\n",
    "\n",
    "# Initialize and Fit KMeans Model\n",
    "clusterer = KMeans(n_clusters=500,random_state=42).fit(incidents[[\"centerLong\",\"centerLat\"]])\n",
    "\n",
    "# Run Predictions\n",
    "predictions = clusterer.predict(incidents[[\"centerLong\",\"centerLat\"]])\n",
    "\n",
    "# Add column for clusters to incidents dataframe\n",
    "incidents[\"cluster\"] = predictions\n",
    "\n",
    "# Save Model using Pickle\n",
    "pickle.dump(clusterer, open(\"../resources/clusterer.pkl\", \"wb\"))\n"
   ]
  },
  {
   "cell_type": "code",
   "execution_count": null,
   "metadata": {},
   "outputs": [],
   "source": [
    "crime_centers = incidents.groupby(incidents['cluster']).mean()\n",
    "\n",
    "crime_centers_df = crime_centers.reset_index()"
   ]
  },
  {
   "cell_type": "code",
   "execution_count": null,
   "metadata": {},
   "outputs": [],
   "source": [
    "incidents.to_csv('../resources/incidents_with_crime_centers.csv')"
   ]
  },
  {
   "cell_type": "code",
   "execution_count": null,
   "metadata": {},
   "outputs": [],
   "source": [
    "clusterer.predict([['-93.304643', '44.9230159']])"
   ]
  },
  {
   "cell_type": "code",
   "execution_count": null,
   "metadata": {},
   "outputs": [],
   "source": [
    "crime_centers_df[crime_centers_df['cluster'] == 276]"
   ]
  },
  {
   "cell_type": "code",
   "execution_count": null,
   "metadata": {},
   "outputs": [],
   "source": [
    "\n",
    "\n"
   ]
  }
 ]
}