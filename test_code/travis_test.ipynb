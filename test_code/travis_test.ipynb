{
 "metadata": {
  "language_info": {
   "codemirror_mode": {
    "name": "ipython",
    "version": 3
   },
   "file_extension": ".py",
   "mimetype": "text/x-python",
   "name": "python",
   "nbconvert_exporter": "python",
   "pygments_lexer": "ipython3",
   "version": "3.6.10-final"
  },
  "orig_nbformat": 2,
  "kernelspec": {
   "name": "python3",
   "display_name": "Python 3",
   "language": "python"
  }
 },
 "nbformat": 4,
 "nbformat_minor": 2,
 "cells": [
  {
   "cell_type": "code",
   "execution_count": 1,
   "metadata": {},
   "outputs": [],
   "source": [
    "import pandas as pd\n",
    "import csv\n",
    "import requests\n",
    "import update_2021\n",
    "import datetime as dt\n",
    "import calendar\n",
    "\n",
    "\n"
   ]
  },
  {
   "source": [
    "### runs the py file that updates the csv\n",
    "%run update_2021"
   ],
   "cell_type": "code",
   "metadata": {},
   "execution_count": null,
   "outputs": []
  },
  {
   "cell_type": "code",
   "execution_count": 2,
   "metadata": {},
   "outputs": [
    {
     "output_type": "execute_result",
     "data": {
      "text/plain": [
       "74382"
      ]
     },
     "metadata": {},
     "execution_count": 2
    }
   ],
   "source": [
    "### read csv\n",
    "\n",
    "year = '2021'\n",
    "df=pd.read_csv(f'Police_Incidents_{year}.csv',encoding=\"utf-8\")\n",
    "df.head()\n",
    "df.size\n",
    "# print(type(df))\n",
    "\n"
   ]
  },
  {
   "cell_type": "code",
   "execution_count": 3,
   "metadata": {},
   "outputs": [
    {
     "output_type": "execute_result",
     "data": {
      "text/plain": [
       "           X          Y        publicaddress            caseNumber precinct  \\\n",
       "0 -93.280188  44.985042      0006XX 5TH ST N  MP20212194             1        \n",
       "1 -93.279325  44.967039  0015XX LASALLE AVE   MP20212207             1        \n",
       "2 -93.296851  45.019469  0035XX GIRARD AVE N  MP20212245             4        \n",
       "3 -93.305826  44.982107  0004XX NEWTON AVE N  MP20212252             4        \n",
       "4 -93.268968  44.944078     0032XX 5TH AVE S  MP20212263             3        \n",
       "\n",
       "             reportedDate  reportedTime               beginDate  \\\n",
       "0  2021/01/04 00:00:00+00           741  2021/01/04 00:00:00+00   \n",
       "1  2021/01/04 00:00:00+00           900  2021/01/03 00:00:00+00   \n",
       "2  2021/01/05 00:00:00+00           900  2020/11/03 00:00:00+00   \n",
       "3  2021/01/04 00:00:00+00          1000  2021/01/04 00:00:00+00   \n",
       "4  2021/01/04 00:00:00+00           951  2021/01/04 00:00:00+00   \n",
       "\n",
       "         reportedDateTime  beginTime  ...             enteredDate centergbsid  \\\n",
       "0  2021/01/04 07:41:00+00        741  ...  2021/01/05 00:00:00+00     16909.0   \n",
       "1  2021/01/04 09:00:00+00       1730  ...  2021/01/05 00:00:00+00     15055.0   \n",
       "2  2021/01/05 09:00:00+00       1800  ...  2021/01/05 00:00:00+00     19932.0   \n",
       "3  2021/01/04 10:00:00+00        930  ...  2021/01/05 00:00:00+00     22100.0   \n",
       "4  2021/01/04 09:51:00+00        945  ...  2021/01/05 00:00:00+00     20656.0   \n",
       "\n",
       "   centerLong  centerLat   centerX  centerY  neighborhood  \\\n",
       "0  -93.280193  44.985047 -10383903  5619167    North Loop   \n",
       "1  -93.279330  44.967045 -10383807  5616334   Loring Park   \n",
       "2  -93.296852  45.019471 -10385758  5624587       Folwell   \n",
       "3  -93.305827  44.982108 -10386757  5618705      Harrison   \n",
       "4  -93.268977  44.944080 -10382654  5612722       Central   \n",
       "\n",
       "              lastchanged       LastUpdateDateETL OBJECTID  \n",
       "0  2021/01/05 00:00:00+00  2021/01/06 07:00:33+00        1  \n",
       "1  2021/01/05 00:00:00+00  2021/01/06 07:00:33+00        2  \n",
       "2  2021/01/05 00:00:00+00  2021/01/06 07:00:33+00        3  \n",
       "3  2021/01/05 00:00:00+00  2021/01/06 07:00:33+00        4  \n",
       "4  2021/01/05 00:00:00+00  2021/01/06 07:00:33+00        5  \n",
       "\n",
       "[5 rows x 23 columns]"
      ],
      "text/html": "<div>\n<style scoped>\n    .dataframe tbody tr th:only-of-type {\n        vertical-align: middle;\n    }\n\n    .dataframe tbody tr th {\n        vertical-align: top;\n    }\n\n    .dataframe thead th {\n        text-align: right;\n    }\n</style>\n<table border=\"1\" class=\"dataframe\">\n  <thead>\n    <tr style=\"text-align: right;\">\n      <th></th>\n      <th>X</th>\n      <th>Y</th>\n      <th>publicaddress</th>\n      <th>caseNumber</th>\n      <th>precinct</th>\n      <th>reportedDate</th>\n      <th>reportedTime</th>\n      <th>beginDate</th>\n      <th>reportedDateTime</th>\n      <th>beginTime</th>\n      <th>...</th>\n      <th>enteredDate</th>\n      <th>centergbsid</th>\n      <th>centerLong</th>\n      <th>centerLat</th>\n      <th>centerX</th>\n      <th>centerY</th>\n      <th>neighborhood</th>\n      <th>lastchanged</th>\n      <th>LastUpdateDateETL</th>\n      <th>OBJECTID</th>\n    </tr>\n  </thead>\n  <tbody>\n    <tr>\n      <th>0</th>\n      <td>-93.280188</td>\n      <td>44.985042</td>\n      <td>0006XX 5TH ST N</td>\n      <td>MP20212194</td>\n      <td>1</td>\n      <td>2021/01/04 00:00:00+00</td>\n      <td>741</td>\n      <td>2021/01/04 00:00:00+00</td>\n      <td>2021/01/04 07:41:00+00</td>\n      <td>741</td>\n      <td>...</td>\n      <td>2021/01/05 00:00:00+00</td>\n      <td>16909.0</td>\n      <td>-93.280193</td>\n      <td>44.985047</td>\n      <td>-10383903</td>\n      <td>5619167</td>\n      <td>North Loop</td>\n      <td>2021/01/05 00:00:00+00</td>\n      <td>2021/01/06 07:00:33+00</td>\n      <td>1</td>\n    </tr>\n    <tr>\n      <th>1</th>\n      <td>-93.279325</td>\n      <td>44.967039</td>\n      <td>0015XX LASALLE AVE</td>\n      <td>MP20212207</td>\n      <td>1</td>\n      <td>2021/01/04 00:00:00+00</td>\n      <td>900</td>\n      <td>2021/01/03 00:00:00+00</td>\n      <td>2021/01/04 09:00:00+00</td>\n      <td>1730</td>\n      <td>...</td>\n      <td>2021/01/05 00:00:00+00</td>\n      <td>15055.0</td>\n      <td>-93.279330</td>\n      <td>44.967045</td>\n      <td>-10383807</td>\n      <td>5616334</td>\n      <td>Loring Park</td>\n      <td>2021/01/05 00:00:00+00</td>\n      <td>2021/01/06 07:00:33+00</td>\n      <td>2</td>\n    </tr>\n    <tr>\n      <th>2</th>\n      <td>-93.296851</td>\n      <td>45.019469</td>\n      <td>0035XX GIRARD AVE N</td>\n      <td>MP20212245</td>\n      <td>4</td>\n      <td>2021/01/05 00:00:00+00</td>\n      <td>900</td>\n      <td>2020/11/03 00:00:00+00</td>\n      <td>2021/01/05 09:00:00+00</td>\n      <td>1800</td>\n      <td>...</td>\n      <td>2021/01/05 00:00:00+00</td>\n      <td>19932.0</td>\n      <td>-93.296852</td>\n      <td>45.019471</td>\n      <td>-10385758</td>\n      <td>5624587</td>\n      <td>Folwell</td>\n      <td>2021/01/05 00:00:00+00</td>\n      <td>2021/01/06 07:00:33+00</td>\n      <td>3</td>\n    </tr>\n    <tr>\n      <th>3</th>\n      <td>-93.305826</td>\n      <td>44.982107</td>\n      <td>0004XX NEWTON AVE N</td>\n      <td>MP20212252</td>\n      <td>4</td>\n      <td>2021/01/04 00:00:00+00</td>\n      <td>1000</td>\n      <td>2021/01/04 00:00:00+00</td>\n      <td>2021/01/04 10:00:00+00</td>\n      <td>930</td>\n      <td>...</td>\n      <td>2021/01/05 00:00:00+00</td>\n      <td>22100.0</td>\n      <td>-93.305827</td>\n      <td>44.982108</td>\n      <td>-10386757</td>\n      <td>5618705</td>\n      <td>Harrison</td>\n      <td>2021/01/05 00:00:00+00</td>\n      <td>2021/01/06 07:00:33+00</td>\n      <td>4</td>\n    </tr>\n    <tr>\n      <th>4</th>\n      <td>-93.268968</td>\n      <td>44.944078</td>\n      <td>0032XX 5TH AVE S</td>\n      <td>MP20212263</td>\n      <td>3</td>\n      <td>2021/01/04 00:00:00+00</td>\n      <td>951</td>\n      <td>2021/01/04 00:00:00+00</td>\n      <td>2021/01/04 09:51:00+00</td>\n      <td>945</td>\n      <td>...</td>\n      <td>2021/01/05 00:00:00+00</td>\n      <td>20656.0</td>\n      <td>-93.268977</td>\n      <td>44.944080</td>\n      <td>-10382654</td>\n      <td>5612722</td>\n      <td>Central</td>\n      <td>2021/01/05 00:00:00+00</td>\n      <td>2021/01/06 07:00:33+00</td>\n      <td>5</td>\n    </tr>\n  </tbody>\n</table>\n<p>5 rows × 23 columns</p>\n</div>"
     },
     "metadata": {},
     "execution_count": 3
    }
   ],
   "source": [
    "df.head()"
   ]
  },
  {
   "cell_type": "code",
   "execution_count": 4,
   "metadata": {},
   "outputs": [
    {
     "output_type": "execute_result",
     "data": {
      "text/plain": [
       "Index(['X', 'Y', 'publicaddress', 'caseNumber', 'precinct', 'reportedDate',\n",
       "       'reportedTime', 'beginDate', 'reportedDateTime', 'beginTime', 'offense',\n",
       "       'description', 'UCRCode', 'enteredDate', 'centergbsid', 'centerLong',\n",
       "       'centerLat', 'centerX', 'centerY', 'neighborhood', 'lastchanged',\n",
       "       'LastUpdateDateETL', 'OBJECTID'],\n",
       "      dtype='object')"
      ]
     },
     "metadata": {},
     "execution_count": 4
    }
   ],
   "source": [
    "# df.groupby('offense').count()[\"X\"]\n",
    "\n",
    "df.count()\n",
    "df.columns\n"
   ]
  },
  {
   "cell_type": "code",
   "execution_count": 5,
   "metadata": {
    "tags": []
   },
   "outputs": [
    {
     "output_type": "execute_result",
     "data": {
      "text/plain": [
       "  offense                   description  centerLong  centerLat neighborhood  \\\n",
       "0  AUTOTH              AUTOMOBILE THEFT  -93.280193  44.985047   North Loop   \n",
       "1  AUTOTH              AUTOMOBILE THEFT  -93.279330  44.967045  Loring Park   \n",
       "2   THEFT                   OTHER THEFT  -93.296852  45.019471      Folwell   \n",
       "3  AUTOTH              AUTOMOBILE THEFT  -93.305827  44.982108     Harrison   \n",
       "4  CARJCK  ROBBERY INCLUDING AUTO THEFT  -93.268977  44.944080      Central   \n",
       "\n",
       "       time        date  \n",
       "0  07:41:00  2021-01-04  \n",
       "1  09:00:00  2021-01-04  \n",
       "2  09:00:00  2021-01-05  \n",
       "3  10:00:00  2021-01-04  \n",
       "4  09:51:00  2021-01-04  "
      ],
      "text/html": "<div>\n<style scoped>\n    .dataframe tbody tr th:only-of-type {\n        vertical-align: middle;\n    }\n\n    .dataframe tbody tr th {\n        vertical-align: top;\n    }\n\n    .dataframe thead th {\n        text-align: right;\n    }\n</style>\n<table border=\"1\" class=\"dataframe\">\n  <thead>\n    <tr style=\"text-align: right;\">\n      <th></th>\n      <th>offense</th>\n      <th>description</th>\n      <th>centerLong</th>\n      <th>centerLat</th>\n      <th>neighborhood</th>\n      <th>time</th>\n      <th>date</th>\n    </tr>\n  </thead>\n  <tbody>\n    <tr>\n      <th>0</th>\n      <td>AUTOTH</td>\n      <td>AUTOMOBILE THEFT</td>\n      <td>-93.280193</td>\n      <td>44.985047</td>\n      <td>North Loop</td>\n      <td>07:41:00</td>\n      <td>2021-01-04</td>\n    </tr>\n    <tr>\n      <th>1</th>\n      <td>AUTOTH</td>\n      <td>AUTOMOBILE THEFT</td>\n      <td>-93.279330</td>\n      <td>44.967045</td>\n      <td>Loring Park</td>\n      <td>09:00:00</td>\n      <td>2021-01-04</td>\n    </tr>\n    <tr>\n      <th>2</th>\n      <td>THEFT</td>\n      <td>OTHER THEFT</td>\n      <td>-93.296852</td>\n      <td>45.019471</td>\n      <td>Folwell</td>\n      <td>09:00:00</td>\n      <td>2021-01-05</td>\n    </tr>\n    <tr>\n      <th>3</th>\n      <td>AUTOTH</td>\n      <td>AUTOMOBILE THEFT</td>\n      <td>-93.305827</td>\n      <td>44.982108</td>\n      <td>Harrison</td>\n      <td>10:00:00</td>\n      <td>2021-01-04</td>\n    </tr>\n    <tr>\n      <th>4</th>\n      <td>CARJCK</td>\n      <td>ROBBERY INCLUDING AUTO THEFT</td>\n      <td>-93.268977</td>\n      <td>44.944080</td>\n      <td>Central</td>\n      <td>09:51:00</td>\n      <td>2021-01-04</td>\n    </tr>\n  </tbody>\n</table>\n</div>"
     },
     "metadata": {},
     "execution_count": 5
    }
   ],
   "source": [
    "#### remove unwanted columns\n",
    "\n",
    "df =df[['reportedDateTime','offense',\n",
    "       'description','centerLong',\n",
    "       'centerLat','neighborhood']]\n",
    "\n",
    "### remove unnecessary spaces from description\n",
    "df['description']=df['description'].str.strip()\n",
    "\n",
    "\n",
    "### remove unnecessary sapces from offense\n",
    "df['offense']=df['offense'].str.strip()\n",
    "\n",
    "### extracting time from reporedDateTime\n",
    "df['time']= [x.time() for x in pd.to_datetime(df['reportedDateTime'])]\n",
    "\n",
    "### extracting date from reporedDateTime\n",
    "\n",
    "df['date']= [x.date() for x in pd.to_datetime(df['reportedDateTime'])]\n",
    "\n",
    "### dropping reportedDateTime since we don't need it\n",
    "df = df.drop(columns=['reportedDateTime'])\n",
    "\n",
    "\n",
    "\n",
    "df.head()\n"
   ]
  },
  {
   "cell_type": "code",
   "execution_count": 6,
   "metadata": {},
   "outputs": [
    {
     "output_type": "execute_result",
     "data": {
      "text/plain": [
       "  offense       description  centerLong  centerLat   neighborhood      time  \\\n",
       "0  AUTOTH  AUTOMOBILE THEFT  -93.280193  44.985047     North Loop  07:41:00   \n",
       "1  AUTOTH  AUTOMOBILE THEFT  -93.279330  44.967045    Loring Park  09:00:00   \n",
       "2  AUTOTH  AUTOMOBILE THEFT  -93.305827  44.982108       Harrison  10:00:00   \n",
       "3  AUTOTH  AUTOMOBILE THEFT  -93.258186  44.967237    Elliot Park  13:19:00   \n",
       "4  AUTOTH  AUTOMOBILE THEFT  -93.236780  44.981536   Marcy Holmes  13:30:00   \n",
       "5  AUTOTH  AUTOMOBILE THEFT  -93.232335  44.951973     Longfellow  14:01:00   \n",
       "6  AUTOTH  AUTOMOBILE THEFT  -93.307598  44.991504  Willard - Hay  14:21:00   \n",
       "7  AUTOTH  AUTOMOBILE THEFT  -93.247317  44.924227       Ericsson  16:10:00   \n",
       "8  AUTOTH  AUTOMOBILE THEFT  -93.313343  44.994257  Willard - Hay  16:00:00   \n",
       "9  AUTOTH  AUTOMOBILE THEFT  -93.288902  44.930437   East Harriet  18:43:00   \n",
       "\n",
       "         date  severity  \n",
       "0  2021-01-04       4.0  \n",
       "1  2021-01-04       4.0  \n",
       "2  2021-01-04       4.0  \n",
       "3  2021-01-04       4.0  \n",
       "4  2021-01-04       4.0  \n",
       "5  2021-01-04       4.0  \n",
       "6  2021-01-04       4.0  \n",
       "7  2021-01-04       4.0  \n",
       "8  2021-01-04       4.0  \n",
       "9  2021-01-04       4.0  "
      ],
      "text/html": "<div>\n<style scoped>\n    .dataframe tbody tr th:only-of-type {\n        vertical-align: middle;\n    }\n\n    .dataframe tbody tr th {\n        vertical-align: top;\n    }\n\n    .dataframe thead th {\n        text-align: right;\n    }\n</style>\n<table border=\"1\" class=\"dataframe\">\n  <thead>\n    <tr style=\"text-align: right;\">\n      <th></th>\n      <th>offense</th>\n      <th>description</th>\n      <th>centerLong</th>\n      <th>centerLat</th>\n      <th>neighborhood</th>\n      <th>time</th>\n      <th>date</th>\n      <th>severity</th>\n    </tr>\n  </thead>\n  <tbody>\n    <tr>\n      <th>0</th>\n      <td>AUTOTH</td>\n      <td>AUTOMOBILE THEFT</td>\n      <td>-93.280193</td>\n      <td>44.985047</td>\n      <td>North Loop</td>\n      <td>07:41:00</td>\n      <td>2021-01-04</td>\n      <td>4.0</td>\n    </tr>\n    <tr>\n      <th>1</th>\n      <td>AUTOTH</td>\n      <td>AUTOMOBILE THEFT</td>\n      <td>-93.279330</td>\n      <td>44.967045</td>\n      <td>Loring Park</td>\n      <td>09:00:00</td>\n      <td>2021-01-04</td>\n      <td>4.0</td>\n    </tr>\n    <tr>\n      <th>2</th>\n      <td>AUTOTH</td>\n      <td>AUTOMOBILE THEFT</td>\n      <td>-93.305827</td>\n      <td>44.982108</td>\n      <td>Harrison</td>\n      <td>10:00:00</td>\n      <td>2021-01-04</td>\n      <td>4.0</td>\n    </tr>\n    <tr>\n      <th>3</th>\n      <td>AUTOTH</td>\n      <td>AUTOMOBILE THEFT</td>\n      <td>-93.258186</td>\n      <td>44.967237</td>\n      <td>Elliot Park</td>\n      <td>13:19:00</td>\n      <td>2021-01-04</td>\n      <td>4.0</td>\n    </tr>\n    <tr>\n      <th>4</th>\n      <td>AUTOTH</td>\n      <td>AUTOMOBILE THEFT</td>\n      <td>-93.236780</td>\n      <td>44.981536</td>\n      <td>Marcy Holmes</td>\n      <td>13:30:00</td>\n      <td>2021-01-04</td>\n      <td>4.0</td>\n    </tr>\n    <tr>\n      <th>5</th>\n      <td>AUTOTH</td>\n      <td>AUTOMOBILE THEFT</td>\n      <td>-93.232335</td>\n      <td>44.951973</td>\n      <td>Longfellow</td>\n      <td>14:01:00</td>\n      <td>2021-01-04</td>\n      <td>4.0</td>\n    </tr>\n    <tr>\n      <th>6</th>\n      <td>AUTOTH</td>\n      <td>AUTOMOBILE THEFT</td>\n      <td>-93.307598</td>\n      <td>44.991504</td>\n      <td>Willard - Hay</td>\n      <td>14:21:00</td>\n      <td>2021-01-04</td>\n      <td>4.0</td>\n    </tr>\n    <tr>\n      <th>7</th>\n      <td>AUTOTH</td>\n      <td>AUTOMOBILE THEFT</td>\n      <td>-93.247317</td>\n      <td>44.924227</td>\n      <td>Ericsson</td>\n      <td>16:10:00</td>\n      <td>2021-01-04</td>\n      <td>4.0</td>\n    </tr>\n    <tr>\n      <th>8</th>\n      <td>AUTOTH</td>\n      <td>AUTOMOBILE THEFT</td>\n      <td>-93.313343</td>\n      <td>44.994257</td>\n      <td>Willard - Hay</td>\n      <td>16:00:00</td>\n      <td>2021-01-04</td>\n      <td>4.0</td>\n    </tr>\n    <tr>\n      <th>9</th>\n      <td>AUTOTH</td>\n      <td>AUTOMOBILE THEFT</td>\n      <td>-93.288902</td>\n      <td>44.930437</td>\n      <td>East Harriet</td>\n      <td>18:43:00</td>\n      <td>2021-01-04</td>\n      <td>4.0</td>\n    </tr>\n  </tbody>\n</table>\n</div>"
     },
     "metadata": {},
     "execution_count": 6
    }
   ],
   "source": [
    "\n",
    "# #### read in severity csv into a dataframe\n",
    "sev_df=pd.read_csv('crime_severity.csv',encoding=\"utf-8\")\n",
    "#### replace column name crime with description\n",
    "sev_df=sev_df.rename(columns={'crime':'description'})\n",
    "\n",
    "\n",
    "#### remove spacing from description\n",
    "sev_df['description']=sev_df['description'].str.strip()\n",
    "\n",
    "\n",
    "#### merge the severity and main dataframe, adding the severity to each crime in the main dataframe\n",
    "df = pd.merge(df,sev_df,on='description',how='outer')\n",
    "\n",
    "df.head(10)\n",
    "\n"
   ]
  },
  {
   "cell_type": "code",
   "execution_count": 30,
   "metadata": {},
   "outputs": [
    {
     "output_type": "execute_result",
     "data": {
      "text/plain": [
       "   offense       description  centerLong  centerLat  \\\n",
       "0   AUTOTH  AUTOMOBILE THEFT  -93.280193  44.985047   \n",
       "1   AUTOTH  AUTOMOBILE THEFT  -93.279330  44.967045   \n",
       "2   AUTOTH  AUTOMOBILE THEFT  -93.305827  44.982108   \n",
       "3   AUTOTH  AUTOMOBILE THEFT  -93.258186  44.967237   \n",
       "4   AUTOTH  AUTOMOBILE THEFT  -93.236780  44.981536   \n",
       "5   AUTOTH  AUTOMOBILE THEFT  -93.232335  44.951973   \n",
       "6   AUTOTH  AUTOMOBILE THEFT  -93.307598  44.991504   \n",
       "7   AUTOTH  AUTOMOBILE THEFT  -93.247317  44.924227   \n",
       "8   AUTOTH  AUTOMOBILE THEFT  -93.313343  44.994257   \n",
       "9   AUTOTH  AUTOMOBILE THEFT  -93.288902  44.930437   \n",
       "10  AUTOTH  AUTOMOBILE THEFT  -93.298290  44.997412   \n",
       "11  AUTOTH  AUTOMOBILE THEFT  -93.230147  44.942740   \n",
       "12  AUTOTH  AUTOMOBILE THEFT  -93.264582  44.948354   \n",
       "13  AUTOTH  AUTOMOBILE THEFT  -93.263764  44.927841   \n",
       "14  AUTOTH  AUTOMOBILE THEFT  -93.240628  44.945651   \n",
       "15  AUTOTH  AUTOMOBILE THEFT  -93.290156  45.043002   \n",
       "16  AUTOTH  AUTOMOBILE THEFT  -93.298111  45.012271   \n",
       "17  AUTOTH  AUTOMOBILE THEFT  -93.261306  44.940467   \n",
       "18  AUTOTH  AUTOMOBILE THEFT  -93.300467  45.048436   \n",
       "19  AUTOTH  AUTOMOBILE THEFT  -93.279645  44.954638   \n",
       "20  AUTOTH  AUTOMOBILE THEFT  -93.313351  44.991088   \n",
       "21  AUTOTH  AUTOMOBILE THEFT  -93.295945  44.896970   \n",
       "22  AUTOTH  AUTOMOBILE THEFT  -93.205038  44.906302   \n",
       "23  AUTOTH  AUTOMOBILE THEFT  -93.271458  44.936854   \n",
       "24  AUTOTH  AUTOMOBILE THEFT  -93.236473  44.980767   \n",
       "25  AUTOTH  AUTOMOBILE THEFT  -93.272335  44.972318   \n",
       "26  AUTOTH  AUTOMOBILE THEFT  -93.277904  44.951451   \n",
       "27  AUTOTH  AUTOMOBILE THEFT  -93.266468  44.950145   \n",
       "28  AUTOTH  AUTOMOBILE THEFT  -93.309490  44.998780   \n",
       "29  AUTOTH  AUTOMOBILE THEFT  -93.290920  44.962703   \n",
       "30  AUTOTH  AUTOMOBILE THEFT  -93.282964  44.954639   \n",
       "31  AUTOTH  AUTOMOBILE THEFT  -93.262346  45.012173   \n",
       "32  AUTOTH  AUTOMOBILE THEFT  -93.289332  45.024845   \n",
       "33  AUTOTH  AUTOMOBILE THEFT  -93.251224  44.947460   \n",
       "34  AUTOTH  AUTOMOBILE THEFT  -93.282964  44.954639   \n",
       "35  AUTOTH  AUTOMOBILE THEFT  -93.239237  44.987659   \n",
       "36  AUTOTH  AUTOMOBILE THEFT  -93.261060  44.963930   \n",
       "37  AUTOTH  AUTOMOBILE THEFT  -93.283388  45.013729   \n",
       "38  AUTOTH  AUTOMOBILE THEFT  -93.260366  44.967992   \n",
       "39  AUTOTH  AUTOMOBILE THEFT  -93.255005  44.952840   \n",
       "40  AUTOTH  AUTOMOBILE THEFT  -93.247623  44.970376   \n",
       "41  AUTOTH  AUTOMOBILE THEFT  -93.244702  44.963055   \n",
       "42  AUTOTH  AUTOMOBILE THEFT  -93.291179  44.968457   \n",
       "43  AUTOTH  AUTOMOBILE THEFT  -93.223211  44.959630   \n",
       "44  AUTOTH  AUTOMOBILE THEFT  -93.214924  44.970449   \n",
       "45  AUTOTH  AUTOMOBILE THEFT  -93.230842  44.933218   \n",
       "46  AUTOTH  AUTOMOBILE THEFT  -93.233306  44.988748   \n",
       "47  AUTOTH  AUTOMOBILE THEFT  -93.275322  44.938648   \n",
       "48  AUTOTH  AUTOMOBILE THEFT  -93.218407  44.987494   \n",
       "49  AUTOTH  AUTOMOBILE THEFT  -93.235147  44.948372   \n",
       "\n",
       "                       neighborhood      time        date  severity  dayOfWeek  \n",
       "0                        North Loop  07:41:00  2021-01-04       4.0     Monday  \n",
       "1                       Loring Park  09:00:00  2021-01-04       4.0     Monday  \n",
       "2                          Harrison  10:00:00  2021-01-04       4.0     Monday  \n",
       "3                       Elliot Park  13:19:00  2021-01-04       4.0     Monday  \n",
       "4                      Marcy Holmes  13:30:00  2021-01-04       4.0     Monday  \n",
       "5                        Longfellow  14:01:00  2021-01-04       4.0     Monday  \n",
       "6                     Willard - Hay  14:21:00  2021-01-04       4.0     Monday  \n",
       "7                          Ericsson  16:10:00  2021-01-04       4.0     Monday  \n",
       "8                     Willard - Hay  16:00:00  2021-01-04       4.0     Monday  \n",
       "9                      East Harriet  18:43:00  2021-01-04       4.0     Monday  \n",
       "10                     Near - North  22:10:00  2021-01-04       4.0     Monday  \n",
       "11                       Longfellow  23:50:00  2021-01-04       4.0     Monday  \n",
       "12                          Central  01:10:00  2021-01-05       4.0    Tuesday  \n",
       "13                           Bryant  04:31:00  2021-01-05       4.0    Tuesday  \n",
       "14                         Corcoran  06:23:00  2021-01-05       4.0    Tuesday  \n",
       "15                   Lind - Bohanon  08:01:00  2021-01-05       4.0    Tuesday  \n",
       "16                           Jordan  08:44:00  2021-01-05       4.0    Tuesday  \n",
       "17                  Powderhorn Park  08:15:00  2021-01-05       4.0    Tuesday  \n",
       "18                    Shingle Creek  09:07:00  2021-01-05       4.0    Tuesday  \n",
       "19                         Whittier  08:57:00  2021-01-07       4.0   Thursday  \n",
       "20                    Willard - Hay  11:10:00  2021-01-07       4.0   Thursday  \n",
       "21                            Kenny  14:55:00  2021-01-07       4.0   Thursday  \n",
       "22                        Minnehaha  14:16:00  2021-01-07       4.0   Thursday  \n",
       "23                          Central  15:29:00  2021-01-07       4.0   Thursday  \n",
       "24                     Marcy Holmes  17:12:00  2021-01-07       4.0   Thursday  \n",
       "25                    Downtown West  19:46:00  2021-01-07       4.0   Thursday  \n",
       "26                         Whittier  17:10:00  2021-01-07       4.0   Thursday  \n",
       "27                    Phillips West  16:50:00  2021-01-07       4.0   Thursday  \n",
       "28                    Willard - Hay  19:08:00  2021-01-07       4.0   Thursday  \n",
       "29                  Lowry Hill East  19:38:00  2021-01-07       4.0   Thursday  \n",
       "30                         Whittier  20:04:00  2021-01-07       4.0   Thursday  \n",
       "31                          Holland  08:58:00  2021-01-10       4.0     Sunday  \n",
       "32                  Webber - Camden  08:40:00  2021-01-10       4.0     Sunday  \n",
       "33                  Powderhorn Park  00:30:00  2021-01-10       4.0     Sunday  \n",
       "34                         Whittier  10:30:00  2021-01-10       4.0     Sunday  \n",
       "35                     Marcy Holmes  10:32:00  2021-01-10       4.0     Sunday  \n",
       "36                  Ventura Village  11:17:00  2021-01-10       4.0     Sunday  \n",
       "37                         McKinley  11:50:00  2021-01-10       4.0     Sunday  \n",
       "38                      Elliot Park  13:19:00  2021-01-10       4.0     Sunday  \n",
       "39                 Midtown Phillips  13:52:00  2021-01-10       4.0     Sunday  \n",
       "40                  Cedar Riverside  16:10:00  2021-01-10       4.0     Sunday  \n",
       "41                           Seward  20:30:00  2021-01-10       4.0     Sunday  \n",
       "42                       Lowry Hill  18:01:00  2021-01-10       4.0     Sunday  \n",
       "43                           Seward  19:03:00  2021-01-10       4.0     Sunday  \n",
       "44  Prospect Park - East River Road  18:43:00  2021-01-10       4.0     Sunday  \n",
       "45                         Standish  21:40:00  2021-01-10       4.0     Sunday  \n",
       "46                             Como  21:45:00  2021-01-10       4.0     Sunday  \n",
       "47                          Lyndale  03:49:00  2021-01-11       4.0     Monday  \n",
       "48                             Como  09:24:00  2021-01-13       4.0  Wednesday  \n",
       "49                       Longfellow  09:52:00  2021-01-13       4.0  Wednesday  "
      ],
      "text/html": "<div>\n<style scoped>\n    .dataframe tbody tr th:only-of-type {\n        vertical-align: middle;\n    }\n\n    .dataframe tbody tr th {\n        vertical-align: top;\n    }\n\n    .dataframe thead th {\n        text-align: right;\n    }\n</style>\n<table border=\"1\" class=\"dataframe\">\n  <thead>\n    <tr style=\"text-align: right;\">\n      <th></th>\n      <th>offense</th>\n      <th>description</th>\n      <th>centerLong</th>\n      <th>centerLat</th>\n      <th>neighborhood</th>\n      <th>time</th>\n      <th>date</th>\n      <th>severity</th>\n      <th>dayOfWeek</th>\n    </tr>\n  </thead>\n  <tbody>\n    <tr>\n      <th>0</th>\n      <td>AUTOTH</td>\n      <td>AUTOMOBILE THEFT</td>\n      <td>-93.280193</td>\n      <td>44.985047</td>\n      <td>North Loop</td>\n      <td>07:41:00</td>\n      <td>2021-01-04</td>\n      <td>4.0</td>\n      <td>Monday</td>\n    </tr>\n    <tr>\n      <th>1</th>\n      <td>AUTOTH</td>\n      <td>AUTOMOBILE THEFT</td>\n      <td>-93.279330</td>\n      <td>44.967045</td>\n      <td>Loring Park</td>\n      <td>09:00:00</td>\n      <td>2021-01-04</td>\n      <td>4.0</td>\n      <td>Monday</td>\n    </tr>\n    <tr>\n      <th>2</th>\n      <td>AUTOTH</td>\n      <td>AUTOMOBILE THEFT</td>\n      <td>-93.305827</td>\n      <td>44.982108</td>\n      <td>Harrison</td>\n      <td>10:00:00</td>\n      <td>2021-01-04</td>\n      <td>4.0</td>\n      <td>Monday</td>\n    </tr>\n    <tr>\n      <th>3</th>\n      <td>AUTOTH</td>\n      <td>AUTOMOBILE THEFT</td>\n      <td>-93.258186</td>\n      <td>44.967237</td>\n      <td>Elliot Park</td>\n      <td>13:19:00</td>\n      <td>2021-01-04</td>\n      <td>4.0</td>\n      <td>Monday</td>\n    </tr>\n    <tr>\n      <th>4</th>\n      <td>AUTOTH</td>\n      <td>AUTOMOBILE THEFT</td>\n      <td>-93.236780</td>\n      <td>44.981536</td>\n      <td>Marcy Holmes</td>\n      <td>13:30:00</td>\n      <td>2021-01-04</td>\n      <td>4.0</td>\n      <td>Monday</td>\n    </tr>\n    <tr>\n      <th>5</th>\n      <td>AUTOTH</td>\n      <td>AUTOMOBILE THEFT</td>\n      <td>-93.232335</td>\n      <td>44.951973</td>\n      <td>Longfellow</td>\n      <td>14:01:00</td>\n      <td>2021-01-04</td>\n      <td>4.0</td>\n      <td>Monday</td>\n    </tr>\n    <tr>\n      <th>6</th>\n      <td>AUTOTH</td>\n      <td>AUTOMOBILE THEFT</td>\n      <td>-93.307598</td>\n      <td>44.991504</td>\n      <td>Willard - Hay</td>\n      <td>14:21:00</td>\n      <td>2021-01-04</td>\n      <td>4.0</td>\n      <td>Monday</td>\n    </tr>\n    <tr>\n      <th>7</th>\n      <td>AUTOTH</td>\n      <td>AUTOMOBILE THEFT</td>\n      <td>-93.247317</td>\n      <td>44.924227</td>\n      <td>Ericsson</td>\n      <td>16:10:00</td>\n      <td>2021-01-04</td>\n      <td>4.0</td>\n      <td>Monday</td>\n    </tr>\n    <tr>\n      <th>8</th>\n      <td>AUTOTH</td>\n      <td>AUTOMOBILE THEFT</td>\n      <td>-93.313343</td>\n      <td>44.994257</td>\n      <td>Willard - Hay</td>\n      <td>16:00:00</td>\n      <td>2021-01-04</td>\n      <td>4.0</td>\n      <td>Monday</td>\n    </tr>\n    <tr>\n      <th>9</th>\n      <td>AUTOTH</td>\n      <td>AUTOMOBILE THEFT</td>\n      <td>-93.288902</td>\n      <td>44.930437</td>\n      <td>East Harriet</td>\n      <td>18:43:00</td>\n      <td>2021-01-04</td>\n      <td>4.0</td>\n      <td>Monday</td>\n    </tr>\n    <tr>\n      <th>10</th>\n      <td>AUTOTH</td>\n      <td>AUTOMOBILE THEFT</td>\n      <td>-93.298290</td>\n      <td>44.997412</td>\n      <td>Near - North</td>\n      <td>22:10:00</td>\n      <td>2021-01-04</td>\n      <td>4.0</td>\n      <td>Monday</td>\n    </tr>\n    <tr>\n      <th>11</th>\n      <td>AUTOTH</td>\n      <td>AUTOMOBILE THEFT</td>\n      <td>-93.230147</td>\n      <td>44.942740</td>\n      <td>Longfellow</td>\n      <td>23:50:00</td>\n      <td>2021-01-04</td>\n      <td>4.0</td>\n      <td>Monday</td>\n    </tr>\n    <tr>\n      <th>12</th>\n      <td>AUTOTH</td>\n      <td>AUTOMOBILE THEFT</td>\n      <td>-93.264582</td>\n      <td>44.948354</td>\n      <td>Central</td>\n      <td>01:10:00</td>\n      <td>2021-01-05</td>\n      <td>4.0</td>\n      <td>Tuesday</td>\n    </tr>\n    <tr>\n      <th>13</th>\n      <td>AUTOTH</td>\n      <td>AUTOMOBILE THEFT</td>\n      <td>-93.263764</td>\n      <td>44.927841</td>\n      <td>Bryant</td>\n      <td>04:31:00</td>\n      <td>2021-01-05</td>\n      <td>4.0</td>\n      <td>Tuesday</td>\n    </tr>\n    <tr>\n      <th>14</th>\n      <td>AUTOTH</td>\n      <td>AUTOMOBILE THEFT</td>\n      <td>-93.240628</td>\n      <td>44.945651</td>\n      <td>Corcoran</td>\n      <td>06:23:00</td>\n      <td>2021-01-05</td>\n      <td>4.0</td>\n      <td>Tuesday</td>\n    </tr>\n    <tr>\n      <th>15</th>\n      <td>AUTOTH</td>\n      <td>AUTOMOBILE THEFT</td>\n      <td>-93.290156</td>\n      <td>45.043002</td>\n      <td>Lind - Bohanon</td>\n      <td>08:01:00</td>\n      <td>2021-01-05</td>\n      <td>4.0</td>\n      <td>Tuesday</td>\n    </tr>\n    <tr>\n      <th>16</th>\n      <td>AUTOTH</td>\n      <td>AUTOMOBILE THEFT</td>\n      <td>-93.298111</td>\n      <td>45.012271</td>\n      <td>Jordan</td>\n      <td>08:44:00</td>\n      <td>2021-01-05</td>\n      <td>4.0</td>\n      <td>Tuesday</td>\n    </tr>\n    <tr>\n      <th>17</th>\n      <td>AUTOTH</td>\n      <td>AUTOMOBILE THEFT</td>\n      <td>-93.261306</td>\n      <td>44.940467</td>\n      <td>Powderhorn Park</td>\n      <td>08:15:00</td>\n      <td>2021-01-05</td>\n      <td>4.0</td>\n      <td>Tuesday</td>\n    </tr>\n    <tr>\n      <th>18</th>\n      <td>AUTOTH</td>\n      <td>AUTOMOBILE THEFT</td>\n      <td>-93.300467</td>\n      <td>45.048436</td>\n      <td>Shingle Creek</td>\n      <td>09:07:00</td>\n      <td>2021-01-05</td>\n      <td>4.0</td>\n      <td>Tuesday</td>\n    </tr>\n    <tr>\n      <th>19</th>\n      <td>AUTOTH</td>\n      <td>AUTOMOBILE THEFT</td>\n      <td>-93.279645</td>\n      <td>44.954638</td>\n      <td>Whittier</td>\n      <td>08:57:00</td>\n      <td>2021-01-07</td>\n      <td>4.0</td>\n      <td>Thursday</td>\n    </tr>\n    <tr>\n      <th>20</th>\n      <td>AUTOTH</td>\n      <td>AUTOMOBILE THEFT</td>\n      <td>-93.313351</td>\n      <td>44.991088</td>\n      <td>Willard - Hay</td>\n      <td>11:10:00</td>\n      <td>2021-01-07</td>\n      <td>4.0</td>\n      <td>Thursday</td>\n    </tr>\n    <tr>\n      <th>21</th>\n      <td>AUTOTH</td>\n      <td>AUTOMOBILE THEFT</td>\n      <td>-93.295945</td>\n      <td>44.896970</td>\n      <td>Kenny</td>\n      <td>14:55:00</td>\n      <td>2021-01-07</td>\n      <td>4.0</td>\n      <td>Thursday</td>\n    </tr>\n    <tr>\n      <th>22</th>\n      <td>AUTOTH</td>\n      <td>AUTOMOBILE THEFT</td>\n      <td>-93.205038</td>\n      <td>44.906302</td>\n      <td>Minnehaha</td>\n      <td>14:16:00</td>\n      <td>2021-01-07</td>\n      <td>4.0</td>\n      <td>Thursday</td>\n    </tr>\n    <tr>\n      <th>23</th>\n      <td>AUTOTH</td>\n      <td>AUTOMOBILE THEFT</td>\n      <td>-93.271458</td>\n      <td>44.936854</td>\n      <td>Central</td>\n      <td>15:29:00</td>\n      <td>2021-01-07</td>\n      <td>4.0</td>\n      <td>Thursday</td>\n    </tr>\n    <tr>\n      <th>24</th>\n      <td>AUTOTH</td>\n      <td>AUTOMOBILE THEFT</td>\n      <td>-93.236473</td>\n      <td>44.980767</td>\n      <td>Marcy Holmes</td>\n      <td>17:12:00</td>\n      <td>2021-01-07</td>\n      <td>4.0</td>\n      <td>Thursday</td>\n    </tr>\n    <tr>\n      <th>25</th>\n      <td>AUTOTH</td>\n      <td>AUTOMOBILE THEFT</td>\n      <td>-93.272335</td>\n      <td>44.972318</td>\n      <td>Downtown West</td>\n      <td>19:46:00</td>\n      <td>2021-01-07</td>\n      <td>4.0</td>\n      <td>Thursday</td>\n    </tr>\n    <tr>\n      <th>26</th>\n      <td>AUTOTH</td>\n      <td>AUTOMOBILE THEFT</td>\n      <td>-93.277904</td>\n      <td>44.951451</td>\n      <td>Whittier</td>\n      <td>17:10:00</td>\n      <td>2021-01-07</td>\n      <td>4.0</td>\n      <td>Thursday</td>\n    </tr>\n    <tr>\n      <th>27</th>\n      <td>AUTOTH</td>\n      <td>AUTOMOBILE THEFT</td>\n      <td>-93.266468</td>\n      <td>44.950145</td>\n      <td>Phillips West</td>\n      <td>16:50:00</td>\n      <td>2021-01-07</td>\n      <td>4.0</td>\n      <td>Thursday</td>\n    </tr>\n    <tr>\n      <th>28</th>\n      <td>AUTOTH</td>\n      <td>AUTOMOBILE THEFT</td>\n      <td>-93.309490</td>\n      <td>44.998780</td>\n      <td>Willard - Hay</td>\n      <td>19:08:00</td>\n      <td>2021-01-07</td>\n      <td>4.0</td>\n      <td>Thursday</td>\n    </tr>\n    <tr>\n      <th>29</th>\n      <td>AUTOTH</td>\n      <td>AUTOMOBILE THEFT</td>\n      <td>-93.290920</td>\n      <td>44.962703</td>\n      <td>Lowry Hill East</td>\n      <td>19:38:00</td>\n      <td>2021-01-07</td>\n      <td>4.0</td>\n      <td>Thursday</td>\n    </tr>\n    <tr>\n      <th>30</th>\n      <td>AUTOTH</td>\n      <td>AUTOMOBILE THEFT</td>\n      <td>-93.282964</td>\n      <td>44.954639</td>\n      <td>Whittier</td>\n      <td>20:04:00</td>\n      <td>2021-01-07</td>\n      <td>4.0</td>\n      <td>Thursday</td>\n    </tr>\n    <tr>\n      <th>31</th>\n      <td>AUTOTH</td>\n      <td>AUTOMOBILE THEFT</td>\n      <td>-93.262346</td>\n      <td>45.012173</td>\n      <td>Holland</td>\n      <td>08:58:00</td>\n      <td>2021-01-10</td>\n      <td>4.0</td>\n      <td>Sunday</td>\n    </tr>\n    <tr>\n      <th>32</th>\n      <td>AUTOTH</td>\n      <td>AUTOMOBILE THEFT</td>\n      <td>-93.289332</td>\n      <td>45.024845</td>\n      <td>Webber - Camden</td>\n      <td>08:40:00</td>\n      <td>2021-01-10</td>\n      <td>4.0</td>\n      <td>Sunday</td>\n    </tr>\n    <tr>\n      <th>33</th>\n      <td>AUTOTH</td>\n      <td>AUTOMOBILE THEFT</td>\n      <td>-93.251224</td>\n      <td>44.947460</td>\n      <td>Powderhorn Park</td>\n      <td>00:30:00</td>\n      <td>2021-01-10</td>\n      <td>4.0</td>\n      <td>Sunday</td>\n    </tr>\n    <tr>\n      <th>34</th>\n      <td>AUTOTH</td>\n      <td>AUTOMOBILE THEFT</td>\n      <td>-93.282964</td>\n      <td>44.954639</td>\n      <td>Whittier</td>\n      <td>10:30:00</td>\n      <td>2021-01-10</td>\n      <td>4.0</td>\n      <td>Sunday</td>\n    </tr>\n    <tr>\n      <th>35</th>\n      <td>AUTOTH</td>\n      <td>AUTOMOBILE THEFT</td>\n      <td>-93.239237</td>\n      <td>44.987659</td>\n      <td>Marcy Holmes</td>\n      <td>10:32:00</td>\n      <td>2021-01-10</td>\n      <td>4.0</td>\n      <td>Sunday</td>\n    </tr>\n    <tr>\n      <th>36</th>\n      <td>AUTOTH</td>\n      <td>AUTOMOBILE THEFT</td>\n      <td>-93.261060</td>\n      <td>44.963930</td>\n      <td>Ventura Village</td>\n      <td>11:17:00</td>\n      <td>2021-01-10</td>\n      <td>4.0</td>\n      <td>Sunday</td>\n    </tr>\n    <tr>\n      <th>37</th>\n      <td>AUTOTH</td>\n      <td>AUTOMOBILE THEFT</td>\n      <td>-93.283388</td>\n      <td>45.013729</td>\n      <td>McKinley</td>\n      <td>11:50:00</td>\n      <td>2021-01-10</td>\n      <td>4.0</td>\n      <td>Sunday</td>\n    </tr>\n    <tr>\n      <th>38</th>\n      <td>AUTOTH</td>\n      <td>AUTOMOBILE THEFT</td>\n      <td>-93.260366</td>\n      <td>44.967992</td>\n      <td>Elliot Park</td>\n      <td>13:19:00</td>\n      <td>2021-01-10</td>\n      <td>4.0</td>\n      <td>Sunday</td>\n    </tr>\n    <tr>\n      <th>39</th>\n      <td>AUTOTH</td>\n      <td>AUTOMOBILE THEFT</td>\n      <td>-93.255005</td>\n      <td>44.952840</td>\n      <td>Midtown Phillips</td>\n      <td>13:52:00</td>\n      <td>2021-01-10</td>\n      <td>4.0</td>\n      <td>Sunday</td>\n    </tr>\n    <tr>\n      <th>40</th>\n      <td>AUTOTH</td>\n      <td>AUTOMOBILE THEFT</td>\n      <td>-93.247623</td>\n      <td>44.970376</td>\n      <td>Cedar Riverside</td>\n      <td>16:10:00</td>\n      <td>2021-01-10</td>\n      <td>4.0</td>\n      <td>Sunday</td>\n    </tr>\n    <tr>\n      <th>41</th>\n      <td>AUTOTH</td>\n      <td>AUTOMOBILE THEFT</td>\n      <td>-93.244702</td>\n      <td>44.963055</td>\n      <td>Seward</td>\n      <td>20:30:00</td>\n      <td>2021-01-10</td>\n      <td>4.0</td>\n      <td>Sunday</td>\n    </tr>\n    <tr>\n      <th>42</th>\n      <td>AUTOTH</td>\n      <td>AUTOMOBILE THEFT</td>\n      <td>-93.291179</td>\n      <td>44.968457</td>\n      <td>Lowry Hill</td>\n      <td>18:01:00</td>\n      <td>2021-01-10</td>\n      <td>4.0</td>\n      <td>Sunday</td>\n    </tr>\n    <tr>\n      <th>43</th>\n      <td>AUTOTH</td>\n      <td>AUTOMOBILE THEFT</td>\n      <td>-93.223211</td>\n      <td>44.959630</td>\n      <td>Seward</td>\n      <td>19:03:00</td>\n      <td>2021-01-10</td>\n      <td>4.0</td>\n      <td>Sunday</td>\n    </tr>\n    <tr>\n      <th>44</th>\n      <td>AUTOTH</td>\n      <td>AUTOMOBILE THEFT</td>\n      <td>-93.214924</td>\n      <td>44.970449</td>\n      <td>Prospect Park - East River Road</td>\n      <td>18:43:00</td>\n      <td>2021-01-10</td>\n      <td>4.0</td>\n      <td>Sunday</td>\n    </tr>\n    <tr>\n      <th>45</th>\n      <td>AUTOTH</td>\n      <td>AUTOMOBILE THEFT</td>\n      <td>-93.230842</td>\n      <td>44.933218</td>\n      <td>Standish</td>\n      <td>21:40:00</td>\n      <td>2021-01-10</td>\n      <td>4.0</td>\n      <td>Sunday</td>\n    </tr>\n    <tr>\n      <th>46</th>\n      <td>AUTOTH</td>\n      <td>AUTOMOBILE THEFT</td>\n      <td>-93.233306</td>\n      <td>44.988748</td>\n      <td>Como</td>\n      <td>21:45:00</td>\n      <td>2021-01-10</td>\n      <td>4.0</td>\n      <td>Sunday</td>\n    </tr>\n    <tr>\n      <th>47</th>\n      <td>AUTOTH</td>\n      <td>AUTOMOBILE THEFT</td>\n      <td>-93.275322</td>\n      <td>44.938648</td>\n      <td>Lyndale</td>\n      <td>03:49:00</td>\n      <td>2021-01-11</td>\n      <td>4.0</td>\n      <td>Monday</td>\n    </tr>\n    <tr>\n      <th>48</th>\n      <td>AUTOTH</td>\n      <td>AUTOMOBILE THEFT</td>\n      <td>-93.218407</td>\n      <td>44.987494</td>\n      <td>Como</td>\n      <td>09:24:00</td>\n      <td>2021-01-13</td>\n      <td>4.0</td>\n      <td>Wednesday</td>\n    </tr>\n    <tr>\n      <th>49</th>\n      <td>AUTOTH</td>\n      <td>AUTOMOBILE THEFT</td>\n      <td>-93.235147</td>\n      <td>44.948372</td>\n      <td>Longfellow</td>\n      <td>09:52:00</td>\n      <td>2021-01-13</td>\n      <td>4.0</td>\n      <td>Wednesday</td>\n    </tr>\n  </tbody>\n</table>\n</div>"
     },
     "metadata": {},
     "execution_count": 30
    }
   ],
   "source": [
    "#### add day of the week to dataframe\n",
    "# df['dayOfWeek']=df['date'].dt.dayofweek()\n",
    "\n",
    "# df['dayOfWeek'] = [i.dt.dayofweek() for i in df['date']]\n",
    "\n",
    "# print(type(df['date'][0]))\n",
    "\n",
    "\n",
    "calendar.day_name[df['date'][109].weekday()]\n",
    "\n",
    "\n",
    "# df['date'][109].weekday()\n",
    "\n",
    "df['dayOfWeek']=[calendar.day_name[df['date'][day].weekday()] for day in range(len(df['date']))]\n",
    "\n",
    "\n",
    "\n",
    "df.head(50)"
   ]
  },
  {
   "cell_type": "code",
   "execution_count": null,
   "metadata": {},
   "outputs": [],
   "source": [
    "df.groupby('severity').count()"
   ]
  },
  {
   "cell_type": "code",
   "execution_count": 31,
   "metadata": {},
   "outputs": [],
   "source": [
    "df.to_csv('2021_Clean.csv',index=False)"
   ]
  },
  {
   "cell_type": "code",
   "execution_count": null,
   "metadata": {},
   "outputs": [],
   "source": []
  }
 ]
}